{
 "cells": [
  {
   "cell_type": "markdown",
   "metadata": {},
   "source": [
    "# Zajęcia 1 (część 1)\n",
    "\n",
    "Zakres:\n",
    "* Zapoznanie się ze srodowiskiem pracy (Dataproc na Google Cloud Platform)\n",
    "* Operacje na obiektowym systemie plików (GCS)\n",
    "* Interaktywna analiza rozproszonych danych przy wykorzystaniu modułu Spark Core i Spark SQL\n",
    "* Wprowadzenie modułu pandas\n",
    "* Wizualizacje przy wykorzystaniu matplotlib oraz seaborn\n",
    "\n",
    "Języki:\n",
    "* bash, Python, SQL "
   ]
  },
  {
   "cell_type": "markdown",
   "metadata": {},
   "source": [
    "Krótka lista przydatnych poleceń bash: https://www.reddit.com/r/linux/comments/9rns12/some_linux_commands_cheatsheet/"
   ]
  },
  {
   "cell_type": "markdown",
   "metadata": {},
   "source": [
    "### Jupyter Notebook\n",
    "\n",
    "* Interaktywny notatnik dostepny poprzez przeglądarkę.\n",
    "* Służy do wpisywania poleceń w wybranych jezykach programowania oraz opis w tzw jezyku markdown.\n",
    "* Polecenia/opis wpisujemy do komórek. Komórki są wykonywane przez tzw. kernel (np Python w określonej wersji)\n",
    "* Działa w tryb edycji komórek + tryb wykonywania poleceń. (przejście poprzez ESC i ENTER)\n",
    "* Podstawowe skróty klawiaturowe: \n",
    "  * Esc/Enter\n",
    "  * strzalki\n",
    "  * ctrl-enter/shift-enter\n",
    "  * a/b/d\n",
    "  * y/m \n",
    "* Moze wykonywać polecenia powłoki (bash) !  %%bash\n",
    "* Notatnik zapisywany jest w formacie ipynb (IPythonNoteBook)\n",
    "* Kolejnosc uruchomienia komórek moze byc rozna.\n",
    "* Mozliwosc zatrzymania kernela i uruchomienia od nowa. \n",
    "\n",
    "Polecamy film: https://www.youtube.com/watch?v=HW29067qVWk\n",
    "\n",
    "Przykładowe komórki Pythonowe i Bashowe:"
   ]
  },
  {
   "cell_type": "code",
   "execution_count": 1,
   "metadata": {
    "tags": []
   },
   "outputs": [
    {
     "name": "stdout",
     "output_type": "stream",
     "text": [
      "Hello root!\n"
     ]
    }
   ],
   "source": [
    "import os\n",
    "user = os.environ.get('USER')\n",
    "msg = f\"Hello {user}!\"\n",
    "print (msg)"
   ]
  },
  {
   "cell_type": "code",
   "execution_count": 2,
   "metadata": {
    "tags": []
   },
   "outputs": [
    {
     "name": "stdout",
     "output_type": "stream",
     "text": [
      "/\n"
     ]
    }
   ],
   "source": [
    "! pwd # pokaż aktualną scieżkę"
   ]
  },
  {
   "cell_type": "code",
   "execution_count": 3,
   "metadata": {
    "tags": []
   },
   "outputs": [
    {
     "name": "stdout",
     "output_type": "stream",
     "text": [
      "{\n",
      " \"cells\": [\n",
      "  {\n",
      "   \"cell_type\": \"markdown\",\n",
      "   \"metadata\": {},\n",
      "   \"source\": [\n",
      "    \"# Zajęcia 1 (część 1)\\n\",\n",
      "    \"\\n\",\n",
      "    \"Zakres:\\n\",\n",
      "    \"* Zapoznanie się ze srodowiskiem pracy (Dataproc na Google Cloud Platform)\\n\",\n",
      "--------------------\n",
      "   \"version\": \"3.11.8\"\n",
      "  },\n",
      "  \"notebook_test\": {\n",
      "   \"keytab_path\": \"/data/work/home/ds-lab-testuser1/ds-lab-testuser1.keytab\",\n",
      "   \"user\": \"ds-lab-testuser1\"\n",
      "  }\n",
      " },\n",
      " \"nbformat\": 4,\n",
      " \"nbformat_minor\": 4\n",
      "}\n"
     ]
    }
   ],
   "source": [
    "%%bash\n",
    "cd /root/ds-notebooks/session_1/\n",
    "head 01_intro.ipynb\n",
    "echo \"--------------------\"\n",
    "tail 01_intro.ipynb"
   ]
  },
  {
   "cell_type": "markdown",
   "metadata": {},
   "source": [
    "### Kopiowanie danych do swojego katalogu domowego\n",
    "\n",
    "W katalogu `session1` znajduje sie plik który bedzie nam dzisiaj słuzyl do pracy.  \n",
    "Dane pochodzą z https://gdac.broadinstitute.org/ i zawierają dane z badaniami nad mutacjami typu CNV w obrebie genu BRCA2.\n"
   ]
  },
  {
   "cell_type": "code",
   "execution_count": 4,
   "metadata": {
    "tags": []
   },
   "outputs": [
    {
     "name": "stdout",
     "output_type": "stream",
     "text": [
      "total 376K\n",
      "drwxr-xr-x  2 root root 4.0K Dec 22 13:44 .\n",
      "drwx------ 12 root root 4.0K Dec 22 13:44 ..\n",
      "-rw-r--r--  1 root root 367K Dec 22 13:44 brca.txt\n"
     ]
    }
   ],
   "source": [
    "%%bash\n",
    "cd /root/ds-notebooks/session_1/\n",
    "mkdir -p ~/data     # stworz katalog data (i posrednie)\n",
    "cp brca.txt ~/data  # skopiuj plik z lokalizacji do bieżącej lokalizacji\n",
    "ls -lah   ~/data       # wylistuj zawartość bieżącego katalogu"
   ]
  },
  {
   "cell_type": "code",
   "execution_count": 5,
   "metadata": {
    "tags": []
   },
   "outputs": [
    {
     "name": "stdout",
     "output_type": "stream",
     "text": [
      "Sample\tChromosome\tStart\tEnd\tNum_Probes\tSegment_Mean\n",
      "TCGA-A2-A0EU-10A-01D-A060-02\t1\t10209\t2583075\tNA\t-0.210121164888764\n",
      "TCGA-A2-A0EU-10A-01D-A060-02\t1\t2583076\t249240606\tNA\t-0.101789555120838\n",
      "TCGA-A2-A0EU-10A-01D-A060-02\t2\t10002\t243189359\tNA\t-0.337963741969504\n",
      "TCGA-A2-A0EU-10A-01D-A060-02\t3\t60175\t162511435\tNA\t-0.0850647472883194\n",
      "TCGA-A2-A0EU-10A-01D-A060-02\t3\t162511436\t162626067\tNA\t0.42309157125509\n",
      "TCGA-A2-A0EU-10A-01D-A060-02\t3\t162626068\t197962416\tNA\t-0.0962225847981023\n",
      "TCGA-A2-A0EU-10A-01D-A060-02\t4\t69223\t191014397\tNA\t-0.0713350286479217\n",
      "TCGA-A2-A0EU-10A-01D-A060-02\t5\t11770\t180905246\tNA\t0.176064461471459\n",
      "TCGA-A2-A0EU-10A-01D-A060-02\t6\t63815\t171050932\tNA\t-0.0895478602860139\n",
      "\n",
      "TCGA-BH-A0W5-01A-11D-A106-02\t16\t60001\t35285758\tNA\t0.50100860888744\n",
      "TCGA-BH-A0W5-01A-11D-A106-02\t16\t46499754\t90294729\tNA\t-0.131450478937173\n",
      "TCGA-BH-A0W5-01A-11D-A106-02\t17\t1\t81195162\tNA\t-0.0320031758392927\n",
      "TCGA-BH-A0W5-01A-11D-A106-02\t18\t10064\t78017233\tNA\t-0.0384891054622891\n",
      "TCGA-BH-A0W5-01A-11D-A106-02\t19\t70880\t59118869\tNA\t-0.0331290909268956\n",
      "TCGA-BH-A0W5-01A-11D-A106-02\t20\t60001\t62965506\tNA\t0.179080603196728\n",
      "TCGA-BH-A0W5-01A-11D-A106-02\t21\t9422166\t48119869\tNA\t-0.0398595055330951\n",
      "TCGA-BH-A0W5-01A-11D-A106-02\t22\t16051206\t51244552\tNA\t-0.289806046243246\n",
      "TCGA-BH-A0W5-01A-11D-A106-02\t23\t2699503\t116067549\tNA\t-0.00890538436141014\n",
      "TCGA-BH-A0W5-01A-11D-A106-02\t24\t2649450\t28784074\tNA\t0.0191845962231001\n",
      "\n",
      "5299 /root/data/brca.txt\n"
     ]
    }
   ],
   "source": [
    "%%bash\n",
    "head ~/data/brca.txt   # pokaż początek pliku\n",
    "echo                   # pusta linia\n",
    "tail ~/data/brca.txt   # pokaż koniec pliku \n",
    "echo\n",
    "wc -l ~/data/brca.txt  # policz linie pliku"
   ]
  },
  {
   "cell_type": "markdown",
   "metadata": {},
   "source": [
    "## Środowisko Google Cloud Dataproc\n",
    "\n",
    "### TODO Dataproc intro\n"
   ]
  },
  {
   "cell_type": "markdown",
   "metadata": {},
   "source": [
    "\n",
    "## Wykorzystanie Google Cloud Storage\n",
    "\n",
    "#### Projekt\n",
    "* Wszystkie dane przynależą do konkretnego projektu.\n",
    "* Do projektu mogą mieć dostęp użytkownicy. \n",
    "* Projekt ma zdefiniowane metody uwierzytelniające, rozliczenia, monitorowanie etc. \n",
    "#### Kubełek (bucket)\n",
    "* Kubełek (bucket) to kontener na pliki/obiekty. \n",
    "* Nazwa Bucketu musi być unikalna w skali całej usługi u wszystkich użytkowników (!) \n",
    "* Kubełków nie można zagnieżdzać\n",
    "* W kubełkach możemy tworzyć foldery i tam logicznie grupować pliki.\n",
    "* Kubełek wraz z zawartością może zostać udostępniony publicznie.\n",
    "* Kubełkowi nie można zmienić nazwy lub metadanych. Trzeba go usunąć i stworzyć ponownie.\n",
    "#### Obiekt \n",
    "* obiekty przechowywane w kubełkach \n",
    "* obiekty mają zawartość oraz metadane\n",
    "* obiekty są niemodyfikowalne \n",
    "\n",
    "Do operacji na Google Storage można wykorzystać narzędzie `gsutil`: \n",
    "\n",
    "##### Operacje na kubełkach\n",
    "* listowanie kubełków (buckets) - `ls`\n",
    "* tworzenie nowego kubełka - `mb`\n",
    "* usuwania kubełka - `rm`\n",
    "* listowanie zawartości kubełków - `ls` \n",
    "* udostępnianie - `iam`\n",
    "\n",
    "##### Operacje na obiektach\n",
    "* dodawania pliku do kubełka - `cp`\n",
    "* kopiowanie - `cp`\n",
    "* usuniecie z kubełka - `cp`\n",
    "* pobranie informacji o obiekcie - `stat`"
   ]
  },
  {
   "cell_type": "markdown",
   "metadata": {},
   "source": [
    "#### Operacje na kubełkach"
   ]
  },
  {
   "cell_type": "code",
   "execution_count": 6,
   "metadata": {
    "tags": []
   },
   "outputs": [
    {
     "name": "stdout",
     "output_type": "stream",
     "text": [
      "gs://dataproc-staging-europe-west1-238809900243-rhvbzyfc/\n",
      "gs://dataproc-temp-europe-west1-238809900243-2jpitgb3/\n",
      "gs://ds-2024l-7076-notebook-data/\n",
      "gs://ds-2024l-7076-state/\n"
     ]
    }
   ],
   "source": [
    "! gsutil ls"
   ]
  },
  {
   "cell_type": "code",
   "execution_count": 7,
   "metadata": {
    "tags": []
   },
   "outputs": [
    {
     "name": "stdout",
     "output_type": "stream",
     "text": [
      "gs://ds-2024l-7076-state/project/:\n",
      "gs://ds-2024l-7076-state/project/default.tfstate\n"
     ]
    }
   ],
   "source": [
    "! gsutil ls -r gs://ds-2024l-7076-state/"
   ]
  },
  {
   "cell_type": "code",
   "execution_count": 8,
   "metadata": {
    "tags": []
   },
   "outputs": [
    {
     "name": "stdout",
     "output_type": "stream",
     "text": [
      "{\n",
      "  \"version\": 4,\n",
      "  \"terraform_version\": \"1.9.8\",\n",
      "  \"serial\": 5,\n",
      "  \"lineage\": \"7718e42e-4284-5f3b-f508-1eceb6820581\",\n",
      "  \"outputs\": {},\n",
      "  \"resources\": [\n",
      "    {\n",
      "      \"module\": \"module.dataproc\",\n",
      "      \"mode\": \"managed\",\n",
      "      \"type\": \"google_dataproc_cluster\",\n",
      "      \"name\": \"dataproc-cluster\",\n",
      "      \"provider\": \"provider[\\\"registry.terraform.io/hashicorp/google\\\"]\",\n",
      "      \"instances\": [\n",
      "        {\n",
      "          \"schema_version\": 1,\n",
      "          \"attributes\": {\n",
      "            \"cluster_config\": [\n",
      "              {\n",
      "                \"autoscaling_config\": [],\n",
      "                \"auxiliary_node_groups\": [],\n",
      "                \"bucket\": \"dataproc-staging-europe-west1-238809900243-rhvbzyfc\",\n",
      "                \"dataproc_metric_config\": [],\n",
      "                \"encryption_config\": [],\n",
      "                \"endpoint_config\": [\n",
      "                  {\n",
      "                    \"enable_http_port_access\": true,\n",
      "                    \"http_ports\": {\n",
      "                      \"HDFS NameNode\": \"https://s5o644ji7jc2rklltk54o65l4y-dot-europe-west1.dataproc.googleusercontent.com/hdfs/dfshealth.html\",\n",
      "                      \"Jupyter\": \"https://s5o644ji7jc2rklltk54o65l4y-dot-europe-west1.dataproc.googleusercontent.com/gateway/default/jupyter/\",\n",
      "                      \"JupyterLab\": \"https://s5o644ji7jc2rklltk54o65l4y-dot-europe-west1.dataproc.googleusercontent.com/gateway/default/jupyter/lab/\",\n",
      "                      \"MapReduce Job History\": \"https://s5o644ji7jc2rklltk54o65l4y-dot-europe-west1.dataproc.googleusercontent.com/jobhistory/\",\n",
      "                      \"Spark History Server\": \"https://s5o644ji7jc2rklltk54o65l4y-dot-europe-west1.dataproc.googleusercontent.com/sparkhistory/\",\n",
      "                      \"Tez\": \"https://s5o644ji7jc2rklltk54o65l4y-dot-europe-west1.dataproc.googleusercontent.com/apphistory/tez-ui/\",\n",
      "                      \"YARN Application Timeline\": \"https://s5o644ji7jc2rklltk54o65l4y-dot-europe-west1.dataproc.googleusercontent.com/apphistory/\",\n",
      "                      \"YARN ResourceManager\": \"https://s5o644ji7jc2rklltk54o65l4y-dot-europe-west1.dataproc.googleusercontent.com/yarn/\"\n",
      "                    }\n",
      "                  }\n",
      "                ],\n",
      "                \"gce_cluster_config\": [\n",
      "                  {\n",
      "                    \"internal_ip_only\": true,\n",
      "                    \"metadata\": {\n",
      "                      \"PIP_PACKAGES\": \"pandas\\u003c2 mlflow==2.18.0 google-cloud-storage==2.18.2\",\n",
      "                      \"vmDnsSetting\": \"GlobalDefault\"\n",
      "                    },\n",
      "                    \"network\": \"\",\n",
      "                    \"node_group_affinity\": [],\n",
      "                    \"reservation_affinity\": [],\n",
      "                    \"service_account\": \"ds-service-account@ds-2024l-7076.iam.gserviceaccount.com\",\n",
      "                    \"service_account_scopes\": [\n",
      "                      \"https://www.googleapis.com/auth/cloud-platform\"\n",
      "                    ],\n",
      "                    \"shielded_instance_config\": [\n",
      "                      {\n",
      "                        \"enable_integrity_monitoring\": true,\n",
      "                        \"enable_secure_boot\": true,\n",
      "                        \"enable_vtpm\": true\n",
      "                      }\n",
      "                    ],\n",
      "                    \"subnetwork\": \"https://www.googleapis.com/compute/v1/projects/ds-2024l-7076/regions/europe-west1/subnetworks/dataproc-01\",\n",
      "                    \"tags\": null,\n",
      "                    \"zone\": \"europe-west1-d\"\n",
      "                  }\n",
      "                ],\n",
      "                \"initialization_action\": [\n",
      "                  {\n",
      "                    \"script\": \"gs://goog-dataproc-initialization-actions-europe-west1/python/pip-install.sh\",\n",
      "                    \"timeout_sec\": 600\n",
      "                  }\n",
      "                ],\n",
      "                \"lifecycle_config\": [\n",
      "                  {\n",
      "                    \"auto_delete_time\": \"\",\n",
      "                    \"idle_delete_ttl\": \"21600s\",\n",
      "                    \"idle_start_time\": \"\"\n",
      "                  }\n",
      "                ],\n",
      "                \"master_config\": [\n",
      "                  {\n",
      "                    \"accelerators\": [],\n",
      "                    \"disk_config\": [\n",
      "                      {\n",
      "                        \"boot_disk_size_gb\": 100,\n",
      "                        \"boot_disk_type\": \"pd-standard\",\n",
      "                        \"local_ssd_interface\": \"\",\n",
      "                        \"num_local_ssds\": 0\n",
      "                      }\n",
      "                    ],\n",
      "                    \"image_uri\": \"https://www.googleapis.com/compute/v1/projects/cloud-dataproc/global/images/dataproc-2-2-ubu22-20241026-165100-rc02\",\n",
      "                    \"instance_names\": [\n",
      "                      \"ds-cluster-m\"\n",
      "                    ],\n",
      "                    \"machine_type\": \"e2-standard-2\",\n",
      "                    \"min_cpu_platform\": \"AUTOMATIC\",\n",
      "                    \"num_instances\": 1\n",
      "                  }\n",
      "                ],\n",
      "                \"metastore_config\": [],\n",
      "                \"preemptible_worker_config\": [\n",
      "                  {\n",
      "                    \"disk_config\": [\n",
      "                      {\n",
      "                        \"boot_disk_size_gb\": null,\n",
      "                        \"boot_disk_type\": null,\n",
      "                        \"local_ssd_interface\": null,\n",
      "                        \"num_local_ssds\": null\n",
      "                      }\n",
      "                    ],\n",
      "                    \"instance_flexibility_policy\": [\n",
      "                      {\n",
      "                        \"instance_selection_list\": null,\n",
      "                        \"instance_selection_results\": null\n",
      "                      }\n",
      "                    ],\n",
      "                    \"instance_names\": [],\n",
      "                    \"num_instances\": 0,\n",
      "                    \"preemptibility\": \"\"\n",
      "                  }\n",
      "                ],\n",
      "                \"security_config\": [],\n",
      "                \"software_config\": [\n",
      "                  {\n",
      "                    \"image_version\": \"2.2.40-ubuntu22\",\n",
      "                    \"optional_components\": [\n",
      "                      \"JUPYTER\"\n",
      "                    ],\n",
      "                    \"override_properties\": {\n",
      "                      \"dataproc:jupyter.notebook.gcs.dir\": \"gs://ds-2024l-7076-notebook-data/data\"\n",
      "                    },\n",
      "                    \"properties\": {\n",
      "                      \"capacity-scheduler:yarn.scheduler.capacity.resource-calculator\": \"org.apache.hadoop.yarn.util.resource.DominantResourceCalculator\",\n",
      "                      \"capacity-scheduler:yarn.scheduler.capacity.root.default.ordering-policy\": \"fair\",\n",
      "                      \"core:fs.gs.block.size\": \"134217728\",\n",
      "                      \"core:fs.gs.metadata.cache.enable\": \"false\",\n",
      "                      \"core:hadoop.ssl.enabled.protocols\": \"TLSv1,TLSv1.1,TLSv1.2\",\n",
      "                      \"dataproc:jupyter.notebook.gcs.dir\": \"gs://ds-2024l-7076-notebook-data/data\",\n",
      "                      \"distcp:mapreduce.map.java.opts\": \"-Xmx576m\",\n",
      "                      \"distcp:mapreduce.map.memory.mb\": \"768\",\n",
      "                      \"distcp:mapreduce.reduce.java.opts\": \"-Xmx576m\",\n",
      "                      \"distcp:mapreduce.reduce.memory.mb\": \"768\",\n",
      "                      \"hadoop-env:HADOOP_DATANODE_OPTS\": \"-Xmx512m\",\n",
      "                      \"hdfs:dfs.datanode.address\": \"0.0.0.0:9866\",\n",
      "                      \"hdfs:dfs.datanode.http.address\": \"0.0.0.0:9864\",\n",
      "                      \"hdfs:dfs.datanode.https.address\": \"0.0.0.0:9865\",\n",
      "                      \"hdfs:dfs.datanode.ipc.address\": \"0.0.0.0:9867\",\n",
      "                      \"hdfs:dfs.namenode.handler.count\": \"20\",\n",
      "                      \"hdfs:dfs.namenode.http-address\": \"0.0.0.0:9870\",\n",
      "                      \"hdfs:dfs.namenode.https-address\": \"0.0.0.0:9871\",\n",
      "                      \"hdfs:dfs.namenode.lifeline.rpc-address\": \"ds-cluster-m:8050\",\n",
      "                      \"hdfs:dfs.namenode.secondary.http-address\": \"0.0.0.0:9868\",\n",
      "                      \"hdfs:dfs.namenode.secondary.https-address\": \"0.0.0.0:9869\",\n",
      "                      \"hdfs:dfs.namenode.service.handler.count\": \"10\",\n",
      "                      \"hdfs:dfs.namenode.servicerpc-address\": \"ds-cluster-m:8051\",\n",
      "                      \"mapred-env:HADOOP_JOB_HISTORYSERVER_HEAPSIZE\": \"2048\",\n",
      "                      \"mapred:mapreduce.job.maps\": \"9\",\n",
      "                      \"mapred:mapreduce.job.reduce.slowstart.completedmaps\": \"0.95\",\n",
      "                      \"mapred:mapreduce.job.reduces\": \"3\",\n",
      "                      \"mapred:mapreduce.jobhistory.recovery.store.class\": \"org.apache.hadoop.mapreduce.v2.hs.HistoryServerLeveldbStateStoreService\",\n",
      "                      \"mapred:mapreduce.map.cpu.vcores\": \"1\",\n",
      "                      \"mapred:mapreduce.map.java.opts\": \"-Xmx2621m\",\n",
      "                      \"mapred:mapreduce.map.memory.mb\": \"3277\",\n",
      "                      \"mapred:mapreduce.reduce.cpu.vcores\": \"1\",\n",
      "                      \"mapred:mapreduce.reduce.java.opts\": \"-Xmx2621m\",\n",
      "                      \"mapred:mapreduce.reduce.memory.mb\": \"3277\",\n",
      "                      \"mapred:mapreduce.task.io.sort.mb\": \"256\",\n",
      "                      \"mapred:yarn.app.mapreduce.am.command-opts\": \"-Xmx2621m\",\n",
      "                      \"mapred:yarn.app.mapreduce.am.resource.cpu-vcores\": \"1\",\n",
      "                      \"mapred:yarn.app.mapreduce.am.resource.mb\": \"3277\",\n",
      "                      \"spark-env:SPARK_DAEMON_MEMORY\": \"2048m\",\n",
      "                      \"spark:spark.driver.maxResultSize\": \"1024m\",\n",
      "                      \"spark:spark.driver.memory\": \"2048m\",\n",
      "                      \"spark:spark.executor.cores\": \"1\",\n",
      "                      \"spark:spark.executor.instances\": \"2\",\n",
      "                      \"spark:spark.executor.memory\": \"2893m\",\n",
      "                      \"spark:spark.executorEnv.OPENBLAS_NUM_THREADS\": \"1\",\n",
      "                      \"spark:spark.plugins.defaultList\": \"com.google.cloud.dataproc.DataprocSparkPlugin\",\n",
      "                      \"spark:spark.scheduler.mode\": \"FAIR\",\n",
      "                      \"spark:spark.sql.cbo.enabled\": \"true\",\n",
      "                      \"spark:spark.sql.optimizer.runtime.bloomFilter.join.pattern.enabled\": \"true\",\n",
      "                      \"spark:spark.ui.port\": \"0\",\n",
      "                      \"spark:spark.yarn.am.memory\": \"640m\",\n",
      "                      \"yarn-env:YARN_NODEMANAGER_HEAPSIZE\": \"819\",\n",
      "                      \"yarn-env:YARN_RESOURCEMANAGER_HEAPSIZE\": \"2048\",\n",
      "                      \"yarn-env:YARN_TIMELINESERVER_HEAPSIZE\": \"2048\",\n",
      "                      \"yarn:yarn.nodemanager.address\": \"0.0.0.0:8026\",\n",
      "                      \"yarn:yarn.nodemanager.resource.cpu-vcores\": \"2\",\n",
      "                      \"yarn:yarn.nodemanager.resource.memory-mb\": \"6554\",\n",
      "                      \"yarn:yarn.resourcemanager.decommissioning-nodes-watcher.decommission-if-no-shuffle-data\": \"true\",\n",
      "                      \"yarn:yarn.resourcemanager.nodemanager-graceful-decommission-timeout-secs\": \"86400\",\n",
      "                      \"yarn:yarn.scheduler.maximum-allocation-mb\": \"6554\",\n",
      "                      \"yarn:yarn.scheduler.minimum-allocation-mb\": \"1\"\n",
      "                    }\n",
      "                  }\n",
      "                ],\n",
      "                \"staging_bucket\": \"\",\n",
      "                \"temp_bucket\": \"dataproc-temp-europe-west1-238809900243-2jpitgb3\",\n",
      "                \"worker_config\": [\n",
      "                  {\n",
      "                    \"accelerators\": [],\n",
      "                    \"disk_config\": [\n",
      "                      {\n",
      "                        \"boot_disk_size_gb\": 100,\n",
      "                        \"boot_disk_type\": \"pd-standard\",\n",
      "                        \"local_ssd_interface\": \"\",\n",
      "                        \"num_local_ssds\": 0\n",
      "                      }\n",
      "                    ],\n",
      "                    \"image_uri\": \"https://www.googleapis.com/compute/v1/projects/cloud-dataproc/global/images/dataproc-2-2-ubu22-20241026-165100-rc02\",\n",
      "                    \"instance_names\": [\n",
      "                      \"ds-cluster-w-0\",\n",
      "                      \"ds-cluster-w-1\"\n",
      "                    ],\n",
      "                    \"machine_type\": \"e2-standard-2\",\n",
      "                    \"min_cpu_platform\": \"AUTOMATIC\",\n",
      "                    \"min_num_instances\": 0,\n",
      "                    \"num_instances\": 2\n",
      "                  }\n",
      "                ]\n",
      "              }\n",
      "            ],\n",
      "            \"effective_labels\": {\n",
      "              \"goog-dataproc-autozone\": \"enabled\",\n",
      "              \"goog-dataproc-cluster-name\": \"ds-cluster\",\n",
      "              \"goog-dataproc-cluster-uuid\": \"b3f83897-02b6-4f6b-bcff-1dd48b7ebf5f\",\n",
      "              \"goog-dataproc-location\": \"europe-west1\"\n",
      "            },\n",
      "            \"graceful_decommission_timeout\": \"0s\",\n",
      "            \"id\": \"projects/ds-2024l-7076/regions/europe-west1/clusters/ds-cluster\",\n",
      "            \"labels\": null,\n",
      "            \"name\": \"ds-cluster\",\n",
      "            \"project\": \"ds-2024l-7076\",\n",
      "            \"region\": \"europe-west1\",\n",
      "            \"terraform_labels\": {},\n",
      "            \"timeouts\": null,\n",
      "            \"virtual_cluster_config\": []\n",
      "          },\n",
      "          \"sensitive_attributes\": [],\n",
      "          \"private\": \"eyJlMmJmYjczMC1lY2FhLTExZTYtOGY4OC0zNDM2M2JjN2M0YzAiOnsiY3JlYXRlIjoyNzAwMDAwMDAwMDAwLCJkZWxldGUiOjI3MDAwMDAwMDAwMDAsInVwZGF0ZSI6MjcwMDAwMDAwMDAwMH0sInNjaGVtYV92ZXJzaW9uIjoiMSJ9\",\n",
      "          \"dependencies\": [\n",
      "            \"module.dataproc.google_project_iam_member.dataproc-service-account\",\n",
      "            \"module.dataproc.google_project_service.dataproc\",\n",
      "            \"module.dataproc.google_service_account.default\",\n",
      "            \"module.vpc.google_compute_firewall.default-internal-allow-all\",\n",
      "            \"module.vpc.google_compute_firewall.fw-allow-ingress-from-iap\",\n",
      "            \"module.vpc.module.cloud-router.google_compute_router.router\",\n",
      "            \"module.vpc.module.cloud-router.google_compute_router_nat.nats\",\n",
      "            \"module.vpc.module.vpc.module.firewall_rules.google_compute_firewall.rules\",\n",
      "            \"module.vpc.module.vpc.module.firewall_rules.google_compute_firewall.rules_ingress_egress\",\n",
      "            \"module.vpc.module.vpc.module.routes.google_compute_route.route\",\n",
      "            \"module.vpc.module.vpc.module.subnets.google_compute_subnetwork.subnetwork\",\n",
      "            \"module.vpc.module.vpc.module.vpc.google_compute_network.network\",\n",
      "            \"module.vpc.module.vpc.module.vpc.google_compute_shared_vpc_host_project.shared_vpc_host\"\n",
      "          ]\n",
      "        }\n",
      "      ]\n",
      "    },\n",
      "    {\n",
      "      \"module\": \"module.dataproc\",\n",
      "      \"mode\": \"managed\",\n",
      "      \"type\": \"google_project_iam_member\",\n",
      "      \"name\": \"dataproc-service-account\",\n",
      "      \"provider\": \"provider[\\\"registry.terraform.io/hashicorp/google\\\"]\",\n",
      "      \"instances\": [\n",
      "        {\n",
      "          \"index_key\": \"roles/dataproc.worker\",\n",
      "          \"schema_version\": 0,\n",
      "          \"attributes\": {\n",
      "            \"condition\": [],\n",
      "            \"etag\": \"BwYp23GgVeY=\",\n",
      "            \"id\": \"ds-2024l-7076/roles/dataproc.worker/serviceAccount:ds-service-account@ds-2024l-7076.iam.gserviceaccount.com\",\n",
      "            \"member\": \"serviceAccount:ds-service-account@ds-2024l-7076.iam.gserviceaccount.com\",\n",
      "            \"project\": \"ds-2024l-7076\",\n",
      "            \"role\": \"roles/dataproc.worker\"\n",
      "          },\n",
      "          \"sensitive_attributes\": [],\n",
      "          \"private\": \"bnVsbA==\",\n",
      "          \"dependencies\": [\n",
      "            \"module.dataproc.google_service_account.default\",\n",
      "            \"module.vpc.google_compute_firewall.default-internal-allow-all\",\n",
      "            \"module.vpc.google_compute_firewall.fw-allow-ingress-from-iap\",\n",
      "            \"module.vpc.module.cloud-router.google_compute_router.router\",\n",
      "            \"module.vpc.module.cloud-router.google_compute_router_nat.nats\",\n",
      "            \"module.vpc.module.vpc.module.firewall_rules.google_compute_firewall.rules\",\n",
      "            \"module.vpc.module.vpc.module.firewall_rules.google_compute_firewall.rules_ingress_egress\",\n",
      "            \"module.vpc.module.vpc.module.routes.google_compute_route.route\",\n",
      "            \"module.vpc.module.vpc.module.subnets.google_compute_subnetwork.subnetwork\",\n",
      "            \"module.vpc.module.vpc.module.vpc.google_compute_network.network\",\n",
      "            \"module.vpc.module.vpc.module.vpc.google_compute_shared_vpc_host_project.shared_vpc_host\"\n",
      "          ]\n",
      "        },\n",
      "        {\n",
      "          \"index_key\": \"roles/storage.admin\",\n",
      "          \"schema_version\": 0,\n",
      "          \"attributes\": {\n",
      "            \"condition\": [],\n",
      "            \"etag\": \"BwYp23GgVeY=\",\n",
      "            \"id\": \"ds-2024l-7076/roles/storage.admin/serviceAccount:ds-service-account@ds-2024l-7076.iam.gserviceaccount.com\",\n",
      "            \"member\": \"serviceAccount:ds-service-account@ds-2024l-7076.iam.gserviceaccount.com\",\n",
      "            \"project\": \"ds-2024l-7076\",\n",
      "            \"role\": \"roles/storage.admin\"\n",
      "          },\n",
      "          \"sensitive_attributes\": [],\n",
      "          \"private\": \"bnVsbA==\",\n",
      "          \"dependencies\": [\n",
      "            \"module.dataproc.google_service_account.default\",\n",
      "            \"module.vpc.google_compute_firewall.default-internal-allow-all\",\n",
      "            \"module.vpc.google_compute_firewall.fw-allow-ingress-from-iap\",\n",
      "            \"module.vpc.module.cloud-router.google_compute_router.router\",\n",
      "            \"module.vpc.module.cloud-router.google_compute_router_nat.nats\",\n",
      "            \"module.vpc.module.vpc.module.firewall_rules.google_compute_firewall.rules\",\n",
      "            \"module.vpc.module.vpc.module.firewall_rules.google_compute_firewall.rules_ingress_egress\",\n",
      "            \"module.vpc.module.vpc.module.routes.google_compute_route.route\",\n",
      "            \"module.vpc.module.vpc.module.subnets.google_compute_subnetwork.subnetwork\",\n",
      "            \"module.vpc.module.vpc.module.vpc.google_compute_network.network\",\n",
      "            \"module.vpc.module.vpc.module.vpc.google_compute_shared_vpc_host_project.shared_vpc_host\"\n",
      "          ]\n",
      "        }\n",
      "      ]\n",
      "    },\n",
      "    {\n",
      "      \"module\": \"module.dataproc\",\n",
      "      \"mode\": \"managed\",\n",
      "      \"type\": \"google_project_service\",\n",
      "      \"name\": \"dataproc\",\n",
      "      \"provider\": \"provider[\\\"registry.terraform.io/hashicorp/google\\\"]\",\n",
      "      \"instances\": [\n",
      "        {\n",
      "          \"schema_version\": 0,\n",
      "          \"attributes\": {\n",
      "            \"disable_dependent_services\": null,\n",
      "            \"disable_on_destroy\": true,\n",
      "            \"id\": \"ds-2024l-7076/dataproc.googleapis.com\",\n",
      "            \"project\": \"ds-2024l-7076\",\n",
      "            \"service\": \"dataproc.googleapis.com\",\n",
      "            \"timeouts\": null\n",
      "          },\n",
      "          \"sensitive_attributes\": [],\n",
      "          \"private\": \"eyJlMmJmYjczMC1lY2FhLTExZTYtOGY4OC0zNDM2M2JjN2M0YzAiOnsiY3JlYXRlIjoxMjAwMDAwMDAwMDAwLCJkZWxldGUiOjEyMDAwMDAwMDAwMDAsInJlYWQiOjYwMDAwMDAwMDAwMCwidXBkYXRlIjoxMjAwMDAwMDAwMDAwfX0=\",\n",
      "          \"dependencies\": [\n",
      "            \"module.vpc.google_compute_firewall.default-internal-allow-all\",\n",
      "            \"module.vpc.google_compute_firewall.fw-allow-ingress-from-iap\",\n",
      "            \"module.vpc.module.cloud-router.google_compute_router.router\",\n",
      "            \"module.vpc.module.cloud-router.google_compute_router_nat.nats\",\n",
      "            \"module.vpc.module.vpc.module.firewall_rules.google_compute_firewall.rules\",\n",
      "            \"module.vpc.module.vpc.module.firewall_rules.google_compute_firewall.rules_ingress_egress\",\n",
      "            \"module.vpc.module.vpc.module.routes.google_compute_route.route\",\n",
      "            \"module.vpc.module.vpc.module.subnets.google_compute_subnetwork.subnetwork\",\n",
      "            \"module.vpc.module.vpc.module.vpc.google_compute_network.network\",\n",
      "            \"module.vpc.module.vpc.module.vpc.google_compute_shared_vpc_host_project.shared_vpc_host\"\n",
      "          ]\n",
      "        }\n",
      "      ]\n",
      "    },\n",
      "    {\n",
      "      \"module\": \"module.dataproc\",\n",
      "      \"mode\": \"managed\",\n",
      "      \"type\": \"google_service_account\",\n",
      "      \"name\": \"default\",\n",
      "      \"provider\": \"provider[\\\"registry.terraform.io/hashicorp/google\\\"]\",\n",
      "      \"instances\": [\n",
      "        {\n",
      "          \"schema_version\": 0,\n",
      "          \"attributes\": {\n",
      "            \"account_id\": \"ds-service-account\",\n",
      "            \"create_ignore_already_exists\": null,\n",
      "            \"description\": \"\",\n",
      "            \"disabled\": false,\n",
      "            \"display_name\": \"DS Lab Service Account\",\n",
      "            \"email\": \"ds-service-account@ds-2024l-7076.iam.gserviceaccount.com\",\n",
      "            \"id\": \"projects/ds-2024l-7076/serviceAccounts/ds-service-account@ds-2024l-7076.iam.gserviceaccount.com\",\n",
      "            \"member\": \"serviceAccount:ds-service-account@ds-2024l-7076.iam.gserviceaccount.com\",\n",
      "            \"name\": \"projects/ds-2024l-7076/serviceAccounts/ds-service-account@ds-2024l-7076.iam.gserviceaccount.com\",\n",
      "            \"project\": \"ds-2024l-7076\",\n",
      "            \"timeouts\": null,\n",
      "            \"unique_id\": \"100805527347684440783\"\n",
      "          },\n",
      "          \"sensitive_attributes\": [],\n",
      "          \"private\": \"eyJlMmJmYjczMC1lY2FhLTExZTYtOGY4OC0zNDM2M2JjN2M0YzAiOnsiY3JlYXRlIjozMDAwMDAwMDAwMDB9fQ==\",\n",
      "          \"dependencies\": [\n",
      "            \"module.vpc.google_compute_firewall.default-internal-allow-all\",\n",
      "            \"module.vpc.google_compute_firewall.fw-allow-ingress-from-iap\",\n",
      "            \"module.vpc.module.cloud-router.google_compute_router.router\",\n",
      "            \"module.vpc.module.cloud-router.google_compute_router_nat.nats\",\n",
      "            \"module.vpc.module.vpc.module.firewall_rules.google_compute_firewall.rules\",\n",
      "            \"module.vpc.module.vpc.module.firewall_rules.google_compute_firewall.rules_ingress_egress\",\n",
      "            \"module.vpc.module.vpc.module.routes.google_compute_route.route\",\n",
      "            \"module.vpc.module.vpc.module.subnets.google_compute_subnetwork.subnetwork\",\n",
      "            \"module.vpc.module.vpc.module.vpc.google_compute_network.network\",\n",
      "            \"module.vpc.module.vpc.module.vpc.google_compute_shared_vpc_host_project.shared_vpc_host\"\n",
      "          ]\n",
      "        }\n",
      "      ]\n",
      "    },\n",
      "    {\n",
      "      \"module\": \"module.vpc\",\n",
      "      \"mode\": \"managed\",\n",
      "      \"type\": \"google_compute_firewall\",\n",
      "      \"name\": \"default-internal-allow-all\",\n",
      "      \"provider\": \"provider[\\\"registry.terraform.io/hashicorp/google\\\"]\",\n",
      "      \"instances\": [\n",
      "        {\n",
      "          \"schema_version\": 1,\n",
      "          \"attributes\": {\n",
      "            \"allow\": [\n",
      "              {\n",
      "                \"ports\": [],\n",
      "                \"protocol\": \"all\"\n",
      "              }\n",
      "            ],\n",
      "            \"creation_timestamp\": \"2024-12-22T04:58:13.787-08:00\",\n",
      "            \"deny\": [],\n",
      "            \"description\": \"\",\n",
      "            \"destination_ranges\": [],\n",
      "            \"direction\": \"INGRESS\",\n",
      "            \"disabled\": false,\n",
      "            \"enable_logging\": null,\n",
      "            \"id\": \"projects/ds-2024l-7076/global/firewalls/default-internal-allow-all\",\n",
      "            \"log_config\": [],\n",
      "            \"name\": \"default-internal-allow-all\",\n",
      "            \"network\": \"https://www.googleapis.com/compute/v1/projects/ds-2024l-7076/global/networks/main-vpc\",\n",
      "            \"priority\": 65534,\n",
      "            \"project\": \"ds-2024l-7076\",\n",
      "            \"self_link\": \"https://www.googleapis.com/compute/v1/projects/ds-2024l-7076/global/firewalls/default-internal-allow-all\",\n",
      "            \"source_ranges\": [\n",
      "              \"10.10.10.0/24\"\n",
      "            ],\n",
      "            \"source_service_accounts\": null,\n",
      "            \"source_tags\": null,\n",
      "            \"target_service_accounts\": null,\n",
      "            \"target_tags\": null,\n",
      "            \"timeouts\": null\n",
      "          },\n",
      "          \"sensitive_attributes\": [],\n",
      "          \"private\": \"eyJlMmJmYjczMC1lY2FhLTExZTYtOGY4OC0zNDM2M2JjN2M0YzAiOnsiY3JlYXRlIjoxMjAwMDAwMDAwMDAwLCJkZWxldGUiOjEyMDAwMDAwMDAwMDAsInVwZGF0ZSI6MTIwMDAwMDAwMDAwMH0sInNjaGVtYV92ZXJzaW9uIjoiMSJ9\",\n",
      "          \"dependencies\": [\n",
      "            \"module.vpc.module.vpc.module.vpc.google_compute_network.network\"\n",
      "          ]\n",
      "        }\n",
      "      ]\n",
      "    },\n",
      "    {\n",
      "      \"module\": \"module.vpc\",\n",
      "      \"mode\": \"managed\",\n",
      "      \"type\": \"google_compute_firewall\",\n",
      "      \"name\": \"fw-allow-ingress-from-iap\",\n",
      "      \"provider\": \"provider[\\\"registry.terraform.io/hashicorp/google\\\"]\",\n",
      "      \"instances\": [\n",
      "        {\n",
      "          \"schema_version\": 1,\n",
      "          \"attributes\": {\n",
      "            \"allow\": [\n",
      "              {\n",
      "                \"ports\": [\n",
      "                  \"22\",\n",
      "                  \"8443\",\n",
      "                  \"443\",\n",
      "                  \"80\",\n",
      "                  \"8000\"\n",
      "                ],\n",
      "                \"protocol\": \"tcp\"\n",
      "              }\n",
      "            ],\n",
      "            \"creation_timestamp\": \"2024-12-22T04:58:13.775-08:00\",\n",
      "            \"deny\": [],\n",
      "            \"description\": \"\",\n",
      "            \"destination_ranges\": [],\n",
      "            \"direction\": \"INGRESS\",\n",
      "            \"disabled\": false,\n",
      "            \"enable_logging\": null,\n",
      "            \"id\": \"projects/ds-2024l-7076/global/firewalls/fw-allow-ingress-iap\",\n",
      "            \"log_config\": [],\n",
      "            \"name\": \"fw-allow-ingress-iap\",\n",
      "            \"network\": \"https://www.googleapis.com/compute/v1/projects/ds-2024l-7076/global/networks/main-vpc\",\n",
      "            \"priority\": 1000,\n",
      "            \"project\": \"ds-2024l-7076\",\n",
      "            \"self_link\": \"https://www.googleapis.com/compute/v1/projects/ds-2024l-7076/global/firewalls/fw-allow-ingress-iap\",\n",
      "            \"source_ranges\": [\n",
      "              \"35.235.240.0/20\"\n",
      "            ],\n",
      "            \"source_service_accounts\": null,\n",
      "            \"source_tags\": null,\n",
      "            \"target_service_accounts\": null,\n",
      "            \"target_tags\": null,\n",
      "            \"timeouts\": null\n",
      "          },\n",
      "          \"sensitive_attributes\": [],\n",
      "          \"private\": \"eyJlMmJmYjczMC1lY2FhLTExZTYtOGY4OC0zNDM2M2JjN2M0YzAiOnsiY3JlYXRlIjoxMjAwMDAwMDAwMDAwLCJkZWxldGUiOjEyMDAwMDAwMDAwMDAsInVwZGF0ZSI6MTIwMDAwMDAwMDAwMH0sInNjaGVtYV92ZXJzaW9uIjoiMSJ9\",\n",
      "          \"dependencies\": [\n",
      "            \"module.vpc.module.vpc.module.vpc.google_compute_network.network\"\n",
      "          ]\n",
      "        }\n",
      "      ]\n",
      "    },\n",
      "    {\n",
      "      \"module\": \"module.vpc.module.cloud-router\",\n",
      "      \"mode\": \"managed\",\n",
      "      \"type\": \"google_compute_router\",\n",
      "      \"name\": \"router\",\n",
      "      \"provider\": \"provider[\\\"registry.terraform.io/hashicorp/google\\\"]\",\n",
      "      \"instances\": [\n",
      "        {\n",
      "          \"schema_version\": 0,\n",
      "          \"attributes\": {\n",
      "            \"bgp\": [],\n",
      "            \"creation_timestamp\": \"2024-12-22T04:58:17.177-08:00\",\n",
      "            \"description\": \"\",\n",
      "            \"encrypted_interconnect_router\": false,\n",
      "            \"id\": \"projects/ds-2024l-7076/regions/europe-west1/routers/nat-router\",\n",
      "            \"name\": \"nat-router\",\n",
      "            \"network\": \"https://www.googleapis.com/compute/v1/projects/ds-2024l-7076/global/networks/main-vpc\",\n",
      "            \"project\": \"ds-2024l-7076\",\n",
      "            \"region\": \"europe-west1\",\n",
      "            \"self_link\": \"https://www.googleapis.com/compute/v1/projects/ds-2024l-7076/regions/europe-west1/routers/nat-router\",\n",
      "            \"timeouts\": null\n",
      "          },\n",
      "          \"sensitive_attributes\": [],\n",
      "          \"private\": \"eyJlMmJmYjczMC1lY2FhLTExZTYtOGY4OC0zNDM2M2JjN2M0YzAiOnsiY3JlYXRlIjoxMjAwMDAwMDAwMDAwLCJkZWxldGUiOjEyMDAwMDAwMDAwMDAsInVwZGF0ZSI6MTIwMDAwMDAwMDAwMH19\",\n",
      "          \"dependencies\": [\n",
      "            \"module.vpc.module.vpc.module.vpc.google_compute_network.network\"\n",
      "          ]\n",
      "        }\n",
      "      ]\n",
      "    },\n",
      "    {\n",
      "      \"module\": \"module.vpc.module.cloud-router\",\n",
      "      \"mode\": \"managed\",\n",
      "      \"type\": \"google_compute_router_nat\",\n",
      "      \"name\": \"nats\",\n",
      "      \"provider\": \"provider[\\\"registry.terraform.io/hashicorp/google\\\"]\",\n",
      "      \"instances\": [\n",
      "        {\n",
      "          \"index_key\": \"nat-gateway\",\n",
      "          \"schema_version\": 0,\n",
      "          \"attributes\": {\n",
      "            \"auto_network_tier\": \"PREMIUM\",\n",
      "            \"drain_nat_ips\": [],\n",
      "            \"enable_dynamic_port_allocation\": false,\n",
      "            \"enable_endpoint_independent_mapping\": false,\n",
      "            \"endpoint_types\": [\n",
      "              \"ENDPOINT_TYPE_VM\"\n",
      "            ],\n",
      "            \"icmp_idle_timeout_sec\": 30,\n",
      "            \"id\": \"ds-2024l-7076/europe-west1/nat-router/nat-gateway\",\n",
      "            \"initial_nat_ips\": null,\n",
      "            \"log_config\": [\n",
      "              {\n",
      "                \"enable\": true,\n",
      "                \"filter\": \"ALL\"\n",
      "              }\n",
      "            ],\n",
      "            \"max_ports_per_vm\": 0,\n",
      "            \"min_ports_per_vm\": 0,\n",
      "            \"name\": \"nat-gateway\",\n",
      "            \"nat_ip_allocate_option\": \"AUTO_ONLY\",\n",
      "            \"nat_ips\": [],\n",
      "            \"project\": \"ds-2024l-7076\",\n",
      "            \"region\": \"europe-west1\",\n",
      "            \"router\": \"nat-router\",\n",
      "            \"rules\": [],\n",
      "            \"source_subnetwork_ip_ranges_to_nat\": \"ALL_SUBNETWORKS_ALL_IP_RANGES\",\n",
      "            \"subnetwork\": [],\n",
      "            \"tcp_established_idle_timeout_sec\": 1200,\n",
      "            \"tcp_time_wait_timeout_sec\": 120,\n",
      "            \"tcp_transitory_idle_timeout_sec\": 30,\n",
      "            \"timeouts\": null,\n",
      "            \"udp_idle_timeout_sec\": 30\n",
      "          },\n",
      "          \"sensitive_attributes\": [],\n",
      "          \"private\": \"eyJlMmJmYjczMC1lY2FhLTExZTYtOGY4OC0zNDM2M2JjN2M0YzAiOnsiY3JlYXRlIjoxMjAwMDAwMDAwMDAwLCJkZWxldGUiOjEyMDAwMDAwMDAwMDAsInVwZGF0ZSI6MTIwMDAwMDAwMDAwMH19\",\n",
      "          \"dependencies\": [\n",
      "            \"module.vpc.module.cloud-router.google_compute_router.router\",\n",
      "            \"module.vpc.module.vpc.module.vpc.google_compute_network.network\"\n",
      "          ]\n",
      "        }\n",
      "      ]\n",
      "    },\n",
      "    {\n",
      "      \"module\": \"module.vpc.module.vpc.module.routes\",\n",
      "      \"mode\": \"managed\",\n",
      "      \"type\": \"google_compute_route\",\n",
      "      \"name\": \"route\",\n",
      "      \"provider\": \"provider[\\\"registry.terraform.io/hashicorp/google\\\"]\",\n",
      "      \"instances\": [\n",
      "        {\n",
      "          \"index_key\": \"egress-internet\",\n",
      "          \"schema_version\": 0,\n",
      "          \"attributes\": {\n",
      "            \"description\": \"route through IGW to access internet\",\n",
      "            \"dest_range\": \"0.0.0.0/0\",\n",
      "            \"id\": \"projects/ds-2024l-7076/global/routes/egress-internet\",\n",
      "            \"name\": \"egress-internet\",\n",
      "            \"network\": \"https://www.googleapis.com/compute/v1/projects/ds-2024l-7076/global/networks/main-vpc\",\n",
      "            \"next_hop_gateway\": \"https://www.googleapis.com/compute/v1/projects/ds-2024l-7076/global/gateways/default-internet-gateway\",\n",
      "            \"next_hop_ilb\": \"\",\n",
      "            \"next_hop_instance\": \"\",\n",
      "            \"next_hop_instance_zone\": null,\n",
      "            \"next_hop_ip\": \"\",\n",
      "            \"next_hop_network\": \"\",\n",
      "            \"next_hop_vpn_tunnel\": \"\",\n",
      "            \"priority\": 1000,\n",
      "            \"project\": \"ds-2024l-7076\",\n",
      "            \"self_link\": \"https://www.googleapis.com/compute/v1/projects/ds-2024l-7076/global/routes/egress-internet\",\n",
      "            \"tags\": null,\n",
      "            \"timeouts\": null\n",
      "          },\n",
      "          \"sensitive_attributes\": [],\n",
      "          \"private\": \"eyJlMmJmYjczMC1lY2FhLTExZTYtOGY4OC0zNDM2M2JjN2M0YzAiOnsiY3JlYXRlIjoxMjAwMDAwMDAwMDAwLCJkZWxldGUiOjEyMDAwMDAwMDAwMDB9fQ==\",\n",
      "          \"dependencies\": [\n",
      "            \"module.vpc.module.vpc.module.subnets.google_compute_subnetwork.subnetwork\",\n",
      "            \"module.vpc.module.vpc.module.vpc.google_compute_network.network\"\n",
      "          ]\n",
      "        }\n",
      "      ]\n",
      "    },\n",
      "    {\n",
      "      \"module\": \"module.vpc.module.vpc.module.subnets\",\n",
      "      \"mode\": \"managed\",\n",
      "      \"type\": \"google_compute_subnetwork\",\n",
      "      \"name\": \"subnetwork\",\n",
      "      \"provider\": \"provider[\\\"registry.terraform.io/hashicorp/google\\\"]\",\n",
      "      \"instances\": [\n",
      "        {\n",
      "          \"index_key\": \"europe-west1/dataproc-01\",\n",
      "          \"schema_version\": 0,\n",
      "          \"attributes\": {\n",
      "            \"creation_timestamp\": \"2024-12-22T04:58:20.799-08:00\",\n",
      "            \"description\": \"\",\n",
      "            \"external_ipv6_prefix\": \"\",\n",
      "            \"fingerprint\": null,\n",
      "            \"gateway_address\": \"10.10.10.1\",\n",
      "            \"id\": \"projects/ds-2024l-7076/regions/europe-west1/subnetworks/dataproc-01\",\n",
      "            \"internal_ipv6_prefix\": \"\",\n",
      "            \"ip_cidr_range\": \"10.10.10.0/24\",\n",
      "            \"ipv6_access_type\": \"\",\n",
      "            \"ipv6_cidr_range\": \"\",\n",
      "            \"log_config\": [],\n",
      "            \"name\": \"dataproc-01\",\n",
      "            \"network\": \"https://www.googleapis.com/compute/v1/projects/ds-2024l-7076/global/networks/main-vpc\",\n",
      "            \"private_ip_google_access\": true,\n",
      "            \"private_ipv6_google_access\": \"DISABLE_GOOGLE_ACCESS\",\n",
      "            \"project\": \"ds-2024l-7076\",\n",
      "            \"purpose\": \"PRIVATE\",\n",
      "            \"region\": \"europe-west1\",\n",
      "            \"reserved_internal_range\": \"\",\n",
      "            \"role\": \"\",\n",
      "            \"secondary_ip_range\": [],\n",
      "            \"self_link\": \"https://www.googleapis.com/compute/v1/projects/ds-2024l-7076/regions/europe-west1/subnetworks/dataproc-01\",\n",
      "            \"send_secondary_ip_range_if_empty\": null,\n",
      "            \"stack_type\": \"IPV4_ONLY\",\n",
      "            \"timeouts\": null\n",
      "          },\n",
      "          \"sensitive_attributes\": [],\n",
      "          \"private\": \"eyJlMmJmYjczMC1lY2FhLTExZTYtOGY4OC0zNDM2M2JjN2M0YzAiOnsiY3JlYXRlIjoxMjAwMDAwMDAwMDAwLCJkZWxldGUiOjEyMDAwMDAwMDAwMDAsInVwZGF0ZSI6MTIwMDAwMDAwMDAwMH19\",\n",
      "          \"dependencies\": [\n",
      "            \"module.vpc.module.vpc.module.vpc.google_compute_network.network\"\n",
      "          ]\n",
      "        }\n",
      "      ]\n",
      "    },\n",
      "    {\n",
      "      \"module\": \"module.vpc.module.vpc.module.vpc\",\n",
      "      \"mode\": \"managed\",\n",
      "      \"type\": \"google_compute_network\",\n",
      "      \"name\": \"network\",\n",
      "      \"provider\": \"provider[\\\"registry.terraform.io/hashicorp/google\\\"]\",\n",
      "      \"instances\": [\n",
      "        {\n",
      "          \"schema_version\": 0,\n",
      "          \"attributes\": {\n",
      "            \"auto_create_subnetworks\": false,\n",
      "            \"delete_default_routes_on_create\": false,\n",
      "            \"description\": \"\",\n",
      "            \"enable_ula_internal_ipv6\": false,\n",
      "            \"gateway_ipv4\": \"\",\n",
      "            \"id\": \"projects/ds-2024l-7076/global/networks/main-vpc\",\n",
      "            \"internal_ipv6_range\": \"\",\n",
      "            \"mtu\": 0,\n",
      "            \"name\": \"main-vpc\",\n",
      "            \"network_firewall_policy_enforcement_order\": \"AFTER_CLASSIC_FIREWALL\",\n",
      "            \"numeric_id\": \"7568007226510914101\",\n",
      "            \"project\": \"ds-2024l-7076\",\n",
      "            \"routing_mode\": \"GLOBAL\",\n",
      "            \"self_link\": \"https://www.googleapis.com/compute/v1/projects/ds-2024l-7076/global/networks/main-vpc\",\n",
      "            \"timeouts\": null\n",
      "          },\n",
      "          \"sensitive_attributes\": [],\n",
      "          \"private\": \"eyJlMmJmYjczMC1lY2FhLTExZTYtOGY4OC0zNDM2M2JjN2M0YzAiOnsiY3JlYXRlIjoxMjAwMDAwMDAwMDAwLCJkZWxldGUiOjEyMDAwMDAwMDAwMDAsInVwZGF0ZSI6MTIwMDAwMDAwMDAwMH19\"\n",
      "        }\n",
      "      ]\n",
      "    }\n",
      "  ],\n",
      "  \"check_results\": null\n",
      "}\n"
     ]
    }
   ],
   "source": [
    "! gsutil cat gs://ds-2024l-7076-state/project/default.tfstate"
   ]
  },
  {
   "cell_type": "code",
   "execution_count": 9,
   "metadata": {
    "tags": []
   },
   "outputs": [
    {
     "name": "stdout",
     "output_type": "stream",
     "text": [
      "root\n"
     ]
    }
   ],
   "source": [
    "! echo $USER  # wyswietlenie nazwy uzytkownika"
   ]
  },
  {
   "cell_type": "code",
   "execution_count": 82,
   "metadata": {
    "tags": []
   },
   "outputs": [
    {
     "name": "stdout",
     "output_type": "stream",
     "text": [
      "env: USER_ID=7076\n",
      "env: SEMESTER=2024l\n"
     ]
    }
   ],
   "source": [
    "# TODO Please update user id\n",
    "%env USER_ID=7076\n",
    "%env SEMESTER=2024l"
   ]
  },
  {
   "cell_type": "code",
   "execution_count": 11,
   "metadata": {
    "tags": []
   },
   "outputs": [
    {
     "name": "stdout",
     "output_type": "stream",
     "text": [
      "Creating gs://big-data-lab-2024l-7076/...\n"
     ]
    }
   ],
   "source": [
    "! gsutil mb gs://big-data-lab-$SEMESTER-$USER_ID"
   ]
  },
  {
   "cell_type": "code",
   "execution_count": 12,
   "metadata": {
    "tags": []
   },
   "outputs": [],
   "source": [
    "! gsutil ls gs://big-data-lab-$SEMESTER-$USER_ID"
   ]
  },
  {
   "cell_type": "code",
   "execution_count": 13,
   "metadata": {
    "tags": []
   },
   "outputs": [
    {
     "name": "stdout",
     "output_type": "stream",
     "text": [
      "0            gs://big-data-lab-2024l-7076\n"
     ]
    }
   ],
   "source": [
    "! gsutil du -s gs://big-data-lab-$SEMESTER-$USER_ID # ile zajmuje przestrzeni?"
   ]
  },
  {
   "cell_type": "code",
   "execution_count": 14,
   "metadata": {
    "tags": []
   },
   "outputs": [
    {
     "name": "stdout",
     "output_type": "stream",
     "text": [
      "CommandException: Incorrect option(s) specified. Usage:\n",
      "\n",
      "  gsutil du url...\n",
      "\n",
      "For additional help run:\n",
      "  gsutil help du\n"
     ]
    }
   ],
   "source": [
    "! gsutil du -L -b gs://big-data-lab-$SEMESTER-$USER_ID # listowanie zawartości "
   ]
  },
  {
   "cell_type": "markdown",
   "metadata": {},
   "source": [
    "#### Operacje na zawartości kubełków"
   ]
  },
  {
   "cell_type": "code",
   "execution_count": 15,
   "metadata": {
    "tags": []
   },
   "outputs": [],
   "source": [
    "! gsutil ls -r gs://big-data-lab-$SEMESTER-$USER_ID  # listowanie zawartosci kubełka"
   ]
  },
  {
   "cell_type": "code",
   "execution_count": 16,
   "metadata": {
    "tags": []
   },
   "outputs": [
    {
     "name": "stdout",
     "output_type": "stream",
     "text": [
      "Copying file:///root/ds-notebooks/README.md [Content-Type=text/markdown]...\n",
      "- [1 files][   14.0 B/   14.0 B]                                                \n",
      "Operation completed over 1 objects/14.0 B.                                       \n"
     ]
    }
   ],
   "source": [
    "! gsutil cp ~/ds-notebooks/README.md gs://big-data-lab-$SEMESTER-$USER_ID  # upload obiektu do kubełka"
   ]
  },
  {
   "cell_type": "code",
   "execution_count": 17,
   "metadata": {
    "tags": []
   },
   "outputs": [
    {
     "name": "stdout",
     "output_type": "stream",
     "text": [
      "gs://big-data-lab-2024l-7076/README.md\n"
     ]
    }
   ],
   "source": [
    "! gsutil ls -r gs://big-data-lab-$SEMESTER-$USER_ID  # listowanie zawartosci kubełka"
   ]
  },
  {
   "cell_type": "code",
   "execution_count": 18,
   "metadata": {
    "tags": []
   },
   "outputs": [
    {
     "name": "stdout",
     "output_type": "stream",
     "text": [
      "{\n",
      "  \"bindings\": [\n",
      "    {\n",
      "      \"members\": [\n",
      "        \"projectEditor:ds-2024l-7076\",\n",
      "        \"projectOwner:ds-2024l-7076\"\n",
      "      ],\n",
      "      \"role\": \"roles/storage.legacyBucketOwner\"\n",
      "    },\n",
      "    {\n",
      "      \"members\": [\n",
      "        \"projectViewer:ds-2024l-7076\"\n",
      "      ],\n",
      "      \"role\": \"roles/storage.legacyBucketReader\"\n",
      "    }\n",
      "  ],\n",
      "  \"etag\": \"CAE=\"\n",
      "}\n"
     ]
    }
   ],
   "source": [
    "! gsutil iam get gs://big-data-lab-$SEMESTER-$USER_ID"
   ]
  },
  {
   "cell_type": "code",
   "execution_count": 19,
   "metadata": {
    "tags": []
   },
   "outputs": [
    {
     "name": "stdout",
     "output_type": "stream",
     "text": [
      "gs://big-data-lab-2024l-7076/README.md:\n",
      "    Creation time:          Sun, 22 Dec 2024 14:12:04 GMT\n",
      "    Update time:            Sun, 22 Dec 2024 14:12:04 GMT\n",
      "    Storage class:          STANDARD\n",
      "    Content-Length:         14\n",
      "    Content-Type:           text/markdown\n",
      "    Hash (crc32c):          e+o8YQ==\n",
      "    Hash (md5):             MxzbFtnEwBhVlFmJHMLZeQ==\n",
      "    ETag:                   CNn9ibfHu4oDEAE=\n",
      "    Generation:             1734876724362969\n",
      "    Metageneration:         1\n"
     ]
    }
   ],
   "source": [
    "! gsutil stat gs://big-data-lab-$SEMESTER-$USER_ID/README.md # metadane obiektu w kubełku"
   ]
  },
  {
   "cell_type": "markdown",
   "metadata": {},
   "source": [
    "#### Przeniesienie do docelowego kubełka"
   ]
  },
  {
   "cell_type": "markdown",
   "metadata": {},
   "source": [
    "## <span style='background:yellow'> ZADANIE 1 </span>\n",
    "Wgraj plik brca.txt do kubełka `gs://ds-$SEMESTER-$USER_ID-notebook-data` do katalogu `data`."
   ]
  },
  {
   "cell_type": "code",
   "execution_count": 24,
   "metadata": {
    "tags": []
   },
   "outputs": [
    {
     "name": "stdout",
     "output_type": "stream",
     "text": [
      "Copying file:///root/ds-notebooks/session_1/brca.txt [Content-Type=text/plain]...\n",
      "/ [1 files][366.8 KiB/366.8 KiB]                                                \n",
      "Operation completed over 1 objects/366.8 KiB.                                    \n"
     ]
    }
   ],
   "source": [
    "! gsutil cp ~/ds-notebooks/session_1/brca.txt gs://ds-$SEMESTER-$USER_ID-notebook-data/data/"
   ]
  },
  {
   "cell_type": "code",
   "execution_count": 25,
   "metadata": {
    "tags": []
   },
   "outputs": [
    {
     "name": "stdout",
     "output_type": "stream",
     "text": [
      "0            gs://ds-2024l-7076-notebook-data/data\n"
     ]
    }
   ],
   "source": [
    "! gsutil du -s gs://ds-$SEMESTER-$USER_ID-notebook-data/data/"
   ]
  },
  {
   "cell_type": "markdown",
   "metadata": {},
   "source": [
    "## <span style='background:yellow'> ZADANIE 2 </span>\n",
    "a) Utwórz plik zawierający aktualną datę i godzinę.  \n",
    "b) Wrzuć plik do kubełka `gs://big-data-lab-$SEMESTER-$USER_ID`."
   ]
  },
  {
   "cell_type": "markdown",
   "metadata": {},
   "source": [
    "### Pobranie pliku z powrotem na lokalny dysk"
   ]
  },
  {
   "cell_type": "code",
   "execution_count": 26,
   "metadata": {
    "tags": []
   },
   "outputs": [
    {
     "name": "stdout",
     "output_type": "stream",
     "text": [
      "Copying gs://ds-2024l-7076-notebook-data/data/brca.txt...\n",
      "/ [1 files][366.8 KiB/366.8 KiB]                                                \n",
      "Operation completed over 1 objects/366.8 KiB.                                    \n"
     ]
    }
   ],
   "source": [
    "! gsutil cp gs://ds-$SEMESTER-$USER_ID-notebook-data/data/brca.txt .  # gdzie sie zapisal ten plik?"
   ]
  },
  {
   "cell_type": "code",
   "execution_count": 27,
   "metadata": {
    "tags": []
   },
   "outputs": [
    {
     "name": "stdout",
     "output_type": "stream",
     "text": [
      "/\n"
     ]
    }
   ],
   "source": [
    "! pwd"
   ]
  },
  {
   "cell_type": "markdown",
   "metadata": {},
   "source": [
    "## Apache Spark\n",
    "\n",
    "* Apache Spark - platforma ogólnego zastosowania, open source, do przetwarzania duzych zbiorów danych.\n",
    "* Posiada API dla języków programowania: Scala, Python i R. \n",
    "* Przetwarzanie w Spark przetwarzanie jest wykonywane w większości  wprost w pamięci operacyjnej.\n",
    "* Przeznaczenie: do uruchamiania  aplikacji i skryptów z wykorzystaniem uczenia maszynowego lub interaktywnych kwerend.\n",
    "* Spark ten wspiera SQL (typ DataFrames), przetwarzanie strumieniowe oraz przetwarzanie grafów.\n",
    "* Integracja z lokalną pamięci masową, rozproszonymi lub obiektowymi systemu plików.\n",
    "* Spark można uruchamić na pojedynczej maszynie na środowisku klastrowym, lub w chmurze. \n",
    "\n",
    "Zakres na dzisiejsze laboratorium:\n",
    "* stworzenie sesji Spark\n",
    "* zaczytanie danych z pliku tekstowego\n",
    "* kwerendy na danych\n",
    "\n",
    "Będziemy korzystać z pliku ktory zapisalismy na GCS w pierwszej części ćwiczenia."
   ]
  },
  {
   "cell_type": "code",
   "execution_count": 28,
   "metadata": {
    "tags": []
   },
   "outputs": [
    {
     "name": "stdout",
     "output_type": "stream",
     "text": [
      "gs://ds-2024l-7076-notebook-data/data/:\n",
      "gs://ds-2024l-7076-notebook-data/data/\n",
      "gs://ds-2024l-7076-notebook-data/data/brca.txt\n"
     ]
    }
   ],
   "source": [
    "! gsutil ls -r gs://ds-$SEMESTER-$USER_ID-notebook-data"
   ]
  },
  {
   "cell_type": "markdown",
   "metadata": {},
   "source": [
    "### Przygotowanie sesji Sparkowej\n"
   ]
  },
  {
   "cell_type": "code",
   "execution_count": 29,
   "metadata": {
    "tags": []
   },
   "outputs": [
    {
     "name": "stderr",
     "output_type": "stream",
     "text": [
      "Setting default log level to \"WARN\".\n",
      "To adjust logging level use sc.setLogLevel(newLevel). For SparkR, use setLogLevel(newLevel).\n",
      "24/12/22 14:26:54 INFO SparkEnv: Registering MapOutputTracker\n",
      "24/12/22 14:26:54 INFO SparkEnv: Registering BlockManagerMaster\n",
      "24/12/22 14:26:54 INFO SparkEnv: Registering BlockManagerMasterHeartbeat\n",
      "24/12/22 14:26:55 INFO SparkEnv: Registering OutputCommitCoordinator\n"
     ]
    }
   ],
   "source": [
    "from pyspark.sql import SparkSession\n",
    "spark = SparkSession.builder \\\n",
    ".config(\"spark.executor.instances\", \"1\") \\\n",
    ".config(\"spark.executor.memory\", \"1g\") \\\n",
    ".getOrCreate()"
   ]
  },
  {
   "cell_type": "code",
   "execution_count": null,
   "metadata": {},
   "outputs": [],
   "source": [
    "spark.stop()"
   ]
  },
  {
   "cell_type": "code",
   "execution_count": null,
   "metadata": {},
   "outputs": [],
   "source": [
    "from pyspark.sql import SparkSession\n",
    "spark = SparkSession.builder \\\n",
    ".config(\"spark.executor.instances\", \"1\") \\\n",
    ".config(\"spark.executor.memory\", \"1g\") \\\n",
    ".getOrCreate()"
   ]
  },
  {
   "cell_type": "markdown",
   "metadata": {},
   "source": [
    "### Ręczne utworzenie zbioru danych"
   ]
  },
  {
   "cell_type": "code",
   "execution_count": 30,
   "metadata": {
    "tags": []
   },
   "outputs": [],
   "source": [
    "# stworzenie rozproszonego DF na podstawie podanej listy krotek \n",
    "df_users = spark.createDataFrame(\n",
    "    [(123, 'Jan Kowalski', 'jan@kowalski.pl'), \n",
    "     (124, 'Anna Nowak', 'anna@nowak.pl'), \n",
    "     (125, 'Janusz Kowalski', 'janusz@kowalski.pl'), \n",
    "     (126, 'Anita Nowak', 'anita@nowak.pl')])"
   ]
  },
  {
   "cell_type": "code",
   "execution_count": 31,
   "metadata": {
    "tags": []
   },
   "outputs": [
    {
     "name": "stderr",
     "output_type": "stream",
     "text": [
      "                                                                                \r"
     ]
    },
    {
     "name": "stdout",
     "output_type": "stream",
     "text": [
      "+---+---------------+------------------+\n",
      "| _1|             _2|                _3|\n",
      "+---+---------------+------------------+\n",
      "|123|   Jan Kowalski|   jan@kowalski.pl|\n",
      "|124|     Anna Nowak|     anna@nowak.pl|\n",
      "|125|Janusz Kowalski|janusz@kowalski.pl|\n",
      "|126|    Anita Nowak|    anita@nowak.pl|\n",
      "+---+---------------+------------------+\n",
      "\n"
     ]
    }
   ],
   "source": [
    "df_users.show()"
   ]
  },
  {
   "cell_type": "code",
   "execution_count": 32,
   "metadata": {
    "tags": []
   },
   "outputs": [
    {
     "name": "stdout",
     "output_type": "stream",
     "text": [
      "root\n",
      " |-- _1: long (nullable = true)\n",
      " |-- _2: string (nullable = true)\n",
      " |-- _3: string (nullable = true)\n",
      "\n"
     ]
    }
   ],
   "source": [
    "df_users.printSchema()"
   ]
  },
  {
   "cell_type": "code",
   "execution_count": 33,
   "metadata": {
    "tags": []
   },
   "outputs": [],
   "source": [
    "df_users = spark.createDataFrame(\n",
    "    [(123, 'Jan Kowalski', 'jan@kowalski.pl'), \n",
    "     (124, 'Anna Nowak', 'anna@nowak.pl'), \n",
    "     (125, 'Janusz Kowalski', 'janusz@kowalski.pl'), \n",
    "     (126, 'Anita Nowak', 'anita@nowak.pl')],\n",
    "    schema='id int not null, name string, email string')"
   ]
  },
  {
   "cell_type": "code",
   "execution_count": 34,
   "metadata": {
    "tags": []
   },
   "outputs": [
    {
     "name": "stdout",
     "output_type": "stream",
     "text": [
      "+---+---------------+------------------+\n",
      "| id|           name|             email|\n",
      "+---+---------------+------------------+\n",
      "|123|   Jan Kowalski|   jan@kowalski.pl|\n",
      "|124|     Anna Nowak|     anna@nowak.pl|\n",
      "|125|Janusz Kowalski|janusz@kowalski.pl|\n",
      "|126|    Anita Nowak|    anita@nowak.pl|\n",
      "+---+---------------+------------------+\n",
      "\n"
     ]
    }
   ],
   "source": [
    "df_users.show()"
   ]
  },
  {
   "cell_type": "code",
   "execution_count": 35,
   "metadata": {
    "tags": []
   },
   "outputs": [
    {
     "name": "stdout",
     "output_type": "stream",
     "text": [
      "root\n",
      " |-- id: integer (nullable = false)\n",
      " |-- name: string (nullable = true)\n",
      " |-- email: string (nullable = true)\n",
      "\n"
     ]
    }
   ],
   "source": [
    "df_users.printSchema()"
   ]
  },
  {
   "cell_type": "markdown",
   "metadata": {},
   "source": [
    "\n",
    "### Wczytanie danych\n",
    "Zazwyczaj dane mamy przechowane na zewnątrz naszego notatnika (np. w pliku) i należy je odczytać."
   ]
  },
  {
   "cell_type": "code",
   "execution_count": 36,
   "metadata": {
    "tags": []
   },
   "outputs": [],
   "source": [
    "# TODO Please update user id\n",
    "semester = '2024l'\n",
    "user_id = '7076'\n",
    "input_path = f'gs://ds-{semester}-{user_id}-notebook-data/data/brca.txt'"
   ]
  },
  {
   "cell_type": "code",
   "execution_count": 37,
   "metadata": {
    "tags": []
   },
   "outputs": [
    {
     "name": "stderr",
     "output_type": "stream",
     "text": [
      "                                                                                \r"
     ]
    }
   ],
   "source": [
    "df = spark.read.load(input_path, format=\"csv\", sep=\"\\t\", inferSchema=\"true\", header=\"true\")"
   ]
  },
  {
   "cell_type": "markdown",
   "metadata": {},
   "source": [
    "### Charakterystyka danych"
   ]
  },
  {
   "cell_type": "code",
   "execution_count": 38,
   "metadata": {
    "tags": []
   },
   "outputs": [
    {
     "data": {
      "text/plain": [
       "pyspark.sql.dataframe.DataFrame"
      ]
     },
     "execution_count": 38,
     "metadata": {},
     "output_type": "execute_result"
    }
   ],
   "source": [
    "type (df)                 # jaki jest typ danych"
   ]
  },
  {
   "cell_type": "code",
   "execution_count": 39,
   "metadata": {
    "tags": []
   },
   "outputs": [
    {
     "name": "stdout",
     "output_type": "stream",
     "text": [
      "== Physical Plan ==\n",
      "FileScan csv [Sample#55,Chromosome#56,Start#57,End#58,Num_Probes#59,Segment_Mean#60] Batched: false, DataFilters: [], Format: CSV, Location: InMemoryFileIndex(1 paths)[gs://ds-2024l-7076-notebook-data/data/brca.txt], PartitionFilters: [], PushedFilters: [], ReadSchema: struct<Sample:string,Chromosome:int,Start:int,End:int,Num_Probes:string,Segment_Mean:double>\n",
      "\n",
      "\n"
     ]
    }
   ],
   "source": [
    "df.explain()              # fizyczny plan wykonania"
   ]
  },
  {
   "cell_type": "code",
   "execution_count": 40,
   "metadata": {
    "tags": []
   },
   "outputs": [
    {
     "name": "stdout",
     "output_type": "stream",
     "text": [
      "== Parsed Logical Plan ==\n",
      "Relation [Sample#55,Chromosome#56,Start#57,End#58,Num_Probes#59,Segment_Mean#60] csv\n",
      "\n",
      "== Analyzed Logical Plan ==\n",
      "Sample: string, Chromosome: int, Start: int, End: int, Num_Probes: string, Segment_Mean: double\n",
      "Relation [Sample#55,Chromosome#56,Start#57,End#58,Num_Probes#59,Segment_Mean#60] csv\n",
      "\n",
      "== Optimized Logical Plan ==\n",
      "Relation [Sample#55,Chromosome#56,Start#57,End#58,Num_Probes#59,Segment_Mean#60] csv\n",
      "\n",
      "== Physical Plan ==\n",
      "FileScan csv [Sample#55,Chromosome#56,Start#57,End#58,Num_Probes#59,Segment_Mean#60] Batched: false, DataFilters: [], Format: CSV, Location: InMemoryFileIndex(1 paths)[gs://ds-2024l-7076-notebook-data/data/brca.txt], PartitionFilters: [], PushedFilters: [], ReadSchema: struct<Sample:string,Chromosome:int,Start:int,End:int,Num_Probes:string,Segment_Mean:double>\n",
      "\n"
     ]
    }
   ],
   "source": [
    "df.explain(True)          # logiczny i fizyczny plan wykonania"
   ]
  },
  {
   "cell_type": "code",
   "execution_count": 41,
   "metadata": {
    "tags": []
   },
   "outputs": [
    {
     "data": {
      "text/plain": [
       "1"
      ]
     },
     "execution_count": 41,
     "metadata": {},
     "output_type": "execute_result"
    }
   ],
   "source": [
    "df.rdd.getNumPartitions() # liczba partycji (bloków danych)"
   ]
  },
  {
   "cell_type": "code",
   "execution_count": 42,
   "metadata": {
    "tags": []
   },
   "outputs": [
    {
     "name": "stdout",
     "output_type": "stream",
     "text": [
      "root\n",
      " |-- Sample: string (nullable = true)\n",
      " |-- Chromosome: integer (nullable = true)\n",
      " |-- Start: integer (nullable = true)\n",
      " |-- End: integer (nullable = true)\n",
      " |-- Num_Probes: string (nullable = true)\n",
      " |-- Segment_Mean: double (nullable = true)\n",
      "\n"
     ]
    }
   ],
   "source": [
    "df.printSchema()          # schemat danych"
   ]
  },
  {
   "cell_type": "code",
   "execution_count": 43,
   "metadata": {
    "tags": []
   },
   "outputs": [
    {
     "name": "stderr",
     "output_type": "stream",
     "text": [
      "                                                                                \r"
     ]
    },
    {
     "data": {
      "text/plain": [
       "5298"
      ]
     },
     "execution_count": 43,
     "metadata": {},
     "output_type": "execute_result"
    }
   ],
   "source": [
    "df.count()                # wymiary (liczba wierszy)"
   ]
  },
  {
   "cell_type": "code",
   "execution_count": 44,
   "metadata": {
    "tags": []
   },
   "outputs": [
    {
     "data": {
      "text/plain": [
       "6"
      ]
     },
     "execution_count": 44,
     "metadata": {},
     "output_type": "execute_result"
    }
   ],
   "source": [
    "len(df.columns)           # wymiary (liczba kolumn)"
   ]
  },
  {
   "cell_type": "code",
   "execution_count": 45,
   "metadata": {
    "tags": []
   },
   "outputs": [
    {
     "name": "stderr",
     "output_type": "stream",
     "text": [
      "24/12/22 14:31:55 WARN SparkStringUtils: Truncated the string representation of a plan since it was too large. This behavior can be adjusted by setting 'spark.sql.debug.maxToStringFields'.\n",
      "[Stage 11:>                                                         (0 + 1) / 1]\r"
     ]
    },
    {
     "name": "stdout",
     "output_type": "stream",
     "text": [
      "+-------+--------------------+------------------+-------------------+-------------------+----------+------------------+\n",
      "|summary|              Sample|        Chromosome|              Start|                End|Num_Probes|      Segment_Mean|\n",
      "+-------+--------------------+------------------+-------------------+-------------------+----------+------------------+\n",
      "|  count|                5298|              5298|               5298|               5298|      5298|              5298|\n",
      "|   mean|                NULL|11.312948282370705|5.464405806266516E7|7.557261170932427E7|      NULL|0.2103169573704153|\n",
      "| stddev|                NULL| 6.548797844563064|5.276515600857485E7|5.816178219098644E7|      NULL|0.8318029444477086|\n",
      "|    min|TCGA-A2-A0EU-01A-...|                 1|                  1|              99263|        NA| -3.49124544908987|\n",
      "|    max|TCGA-BH-A0W5-10A-...|                24|          249152065|          249240606|        NA|  4.25258455583762|\n",
      "+-------+--------------------+------------------+-------------------+-------------------+----------+------------------+\n",
      "\n"
     ]
    },
    {
     "name": "stderr",
     "output_type": "stream",
     "text": [
      "                                                                                \r"
     ]
    }
   ],
   "source": [
    "df.describe().show()      # pokaż podsumowanie danych w tabeli"
   ]
  },
  {
   "cell_type": "code",
   "execution_count": 46,
   "metadata": {
    "tags": []
   },
   "outputs": [
    {
     "name": "stdout",
     "output_type": "stream",
     "text": [
      "+-------+------------------+\n",
      "|summary|        Chromosome|\n",
      "+-------+------------------+\n",
      "|  count|              5298|\n",
      "|   mean|11.312948282370705|\n",
      "| stddev| 6.548797844563064|\n",
      "|    min|                 1|\n",
      "|    max|                24|\n",
      "+-------+------------------+\n",
      "\n"
     ]
    }
   ],
   "source": [
    "df.describe(\"Chromosome\").show() # pokaż podsumowanie danych w kolumnie "
   ]
  },
  {
   "cell_type": "markdown",
   "metadata": {},
   "source": [
    "### Odczyt danych\n",
    "Z wykorzystaniem API DataFrame"
   ]
  },
  {
   "cell_type": "code",
   "execution_count": 47,
   "metadata": {
    "tags": []
   },
   "outputs": [
    {
     "name": "stdout",
     "output_type": "stream",
     "text": [
      "+--------------------+----------+---------+---------+----------+-------------------+\n",
      "|              Sample|Chromosome|    Start|      End|Num_Probes|       Segment_Mean|\n",
      "+--------------------+----------+---------+---------+----------+-------------------+\n",
      "|TCGA-A2-A0EU-10A-...|         1|    10209|  2583075|        NA| -0.210121164888764|\n",
      "|TCGA-A2-A0EU-10A-...|         1|  2583076|249240606|        NA| -0.101789555120838|\n",
      "|TCGA-A2-A0EU-10A-...|         2|    10002|243189359|        NA| -0.337963741969504|\n",
      "|TCGA-A2-A0EU-10A-...|         3|    60175|162511435|        NA|-0.0850647472883194|\n",
      "|TCGA-A2-A0EU-10A-...|         3|162511436|162626067|        NA|   0.42309157125509|\n",
      "|TCGA-A2-A0EU-10A-...|         3|162626068|197962416|        NA|-0.0962225847981023|\n",
      "|TCGA-A2-A0EU-10A-...|         4|    69223|191014397|        NA|-0.0713350286479217|\n",
      "|TCGA-A2-A0EU-10A-...|         5|    11770|180905246|        NA|  0.176064461471459|\n",
      "|TCGA-A2-A0EU-10A-...|         6|    63815|171050932|        NA|-0.0895478602860139|\n",
      "|TCGA-A2-A0EU-10A-...|         7|    10128|159128640|        NA|-0.0402976850808555|\n",
      "|TCGA-A2-A0EU-10A-...|         8|    23380|  1238776|        NA|  -1.29512163093905|\n",
      "|TCGA-A2-A0EU-10A-...|         8|  1238777|  1246507|        NA|  0.484060599726464|\n",
      "|TCGA-A2-A0EU-10A-...|         8|  1246508|  1316313|        NA|  -1.34134440497319|\n",
      "|TCGA-A2-A0EU-10A-...|         8|  1316314|  3129168|        NA|  0.633479182382731|\n",
      "|TCGA-A2-A0EU-10A-...|         8|  3129169| 36339136|        NA|  -1.25800956803346|\n",
      "|TCGA-A2-A0EU-10A-...|         8| 36339137| 39701358|        NA|  0.614107286644963|\n",
      "|TCGA-A2-A0EU-10A-...|         8| 39701359| 40086720|        NA|  0.275345530494848|\n",
      "|TCGA-A2-A0EU-10A-...|         8| 40086721| 48901482|        NA|  0.656347604902809|\n",
      "|TCGA-A2-A0EU-10A-...|         8| 48901483| 48911575|        NA| -0.693717002645095|\n",
      "|TCGA-A2-A0EU-10A-...|         8| 48911576|146303846|        NA|   0.76122152958433|\n",
      "+--------------------+----------+---------+---------+----------+-------------------+\n",
      "only showing top 20 rows\n",
      "\n"
     ]
    }
   ],
   "source": [
    "df.show()                    # pokaż 20 wierszy danych "
   ]
  },
  {
   "cell_type": "code",
   "execution_count": 48,
   "metadata": {
    "tags": []
   },
   "outputs": [
    {
     "name": "stdout",
     "output_type": "stream",
     "text": [
      "+----------------------------+----------+---------+---------+----------+-------------------+\n",
      "|Sample                      |Chromosome|Start    |End      |Num_Probes|Segment_Mean       |\n",
      "+----------------------------+----------+---------+---------+----------+-------------------+\n",
      "|TCGA-A2-A0EU-10A-01D-A060-02|1         |10209    |2583075  |NA        |-0.210121164888764 |\n",
      "|TCGA-A2-A0EU-10A-01D-A060-02|1         |2583076  |249240606|NA        |-0.101789555120838 |\n",
      "|TCGA-A2-A0EU-10A-01D-A060-02|2         |10002    |243189359|NA        |-0.337963741969504 |\n",
      "|TCGA-A2-A0EU-10A-01D-A060-02|3         |60175    |162511435|NA        |-0.0850647472883194|\n",
      "|TCGA-A2-A0EU-10A-01D-A060-02|3         |162511436|162626067|NA        |0.42309157125509   |\n",
      "|TCGA-A2-A0EU-10A-01D-A060-02|3         |162626068|197962416|NA        |-0.0962225847981023|\n",
      "|TCGA-A2-A0EU-10A-01D-A060-02|4         |69223    |191014397|NA        |-0.0713350286479217|\n",
      "|TCGA-A2-A0EU-10A-01D-A060-02|5         |11770    |180905246|NA        |0.176064461471459  |\n",
      "|TCGA-A2-A0EU-10A-01D-A060-02|6         |63815    |171050932|NA        |-0.0895478602860139|\n",
      "|TCGA-A2-A0EU-10A-01D-A060-02|7         |10128    |159128640|NA        |-0.0402976850808555|\n",
      "+----------------------------+----------+---------+---------+----------+-------------------+\n",
      "only showing top 10 rows\n",
      "\n"
     ]
    }
   ],
   "source": [
    "df.show(10, truncate=False) # pokaż 10 wierszy, nie skracaj danych"
   ]
  },
  {
   "cell_type": "code",
   "execution_count": 49,
   "metadata": {
    "tags": []
   },
   "outputs": [
    {
     "name": "stdout",
     "output_type": "stream",
     "text": [
      "+--------------------+\n",
      "|              Sample|\n",
      "+--------------------+\n",
      "|TCGA-A2-A0EU-10A-...|\n",
      "|TCGA-A2-A0EU-10A-...|\n",
      "|TCGA-A2-A0EU-10A-...|\n",
      "|TCGA-A2-A0EU-10A-...|\n",
      "|TCGA-A2-A0EU-10A-...|\n",
      "|TCGA-A2-A0EU-10A-...|\n",
      "|TCGA-A2-A0EU-10A-...|\n",
      "|TCGA-A2-A0EU-10A-...|\n",
      "|TCGA-A2-A0EU-10A-...|\n",
      "|TCGA-A2-A0EU-10A-...|\n",
      "|TCGA-A2-A0EU-10A-...|\n",
      "|TCGA-A2-A0EU-10A-...|\n",
      "|TCGA-A2-A0EU-10A-...|\n",
      "|TCGA-A2-A0EU-10A-...|\n",
      "|TCGA-A2-A0EU-10A-...|\n",
      "|TCGA-A2-A0EU-10A-...|\n",
      "|TCGA-A2-A0EU-10A-...|\n",
      "|TCGA-A2-A0EU-10A-...|\n",
      "|TCGA-A2-A0EU-10A-...|\n",
      "|TCGA-A2-A0EU-10A-...|\n",
      "+--------------------+\n",
      "only showing top 20 rows\n",
      "\n"
     ]
    }
   ],
   "source": [
    "df.select(\"Sample\").show()  # pokaż tylko kolumne sample"
   ]
  },
  {
   "cell_type": "code",
   "execution_count": 50,
   "metadata": {
    "tags": []
   },
   "outputs": [
    {
     "name": "stdout",
     "output_type": "stream",
     "text": [
      "+----------+---------+---------+\n",
      "|Chromosome|    Start|      End|\n",
      "+----------+---------+---------+\n",
      "|         1|    10209|  2583075|\n",
      "|         1|  2583076|249240606|\n",
      "|         2|    10002|243189359|\n",
      "|         3|    60175|162511435|\n",
      "|         3|162511436|162626067|\n",
      "|         3|162626068|197962416|\n",
      "|         4|    69223|191014397|\n",
      "|         5|    11770|180905246|\n",
      "|         6|    63815|171050932|\n",
      "|         7|    10128|159128640|\n",
      "|         8|    23380|  1238776|\n",
      "|         8|  1238777|  1246507|\n",
      "|         8|  1246508|  1316313|\n",
      "|         8|  1316314|  3129168|\n",
      "|         8|  3129169| 36339136|\n",
      "|         8| 36339137| 39701358|\n",
      "|         8| 39701359| 40086720|\n",
      "|         8| 40086721| 48901482|\n",
      "|         8| 48901483| 48911575|\n",
      "|         8| 48911576|146303846|\n",
      "+----------+---------+---------+\n",
      "only showing top 20 rows\n",
      "\n"
     ]
    }
   ],
   "source": [
    "df.select(\"Chromosome\", \"Start\", \"End\").show() # pokaż kolumny chromosome, start i end"
   ]
  },
  {
   "cell_type": "code",
   "execution_count": 51,
   "metadata": {
    "tags": []
   },
   "outputs": [],
   "source": [
    "df_chrom = df.select(df.Chromosome).distinct() # stworz nowy DF zawierajacy tylko unikalne wartosci chromosomow"
   ]
  },
  {
   "cell_type": "code",
   "execution_count": 52,
   "metadata": {
    "tags": []
   },
   "outputs": [
    {
     "name": "stderr",
     "output_type": "stream",
     "text": [
      "                                                                                \r"
     ]
    },
    {
     "data": {
      "text/plain": [
       "24"
      ]
     },
     "execution_count": 52,
     "metadata": {},
     "output_type": "execute_result"
    }
   ],
   "source": [
    "df_chrom.count()                     # policz wiersze w nowym DF"
   ]
  },
  {
   "cell_type": "code",
   "execution_count": 53,
   "metadata": {
    "tags": []
   },
   "outputs": [
    {
     "name": "stdout",
     "output_type": "stream",
     "text": [
      "+--------------------+----------+--------+---------+----------+--------------------+\n",
      "|              Sample|Chromosome|   Start|      End|Num_Probes|        Segment_Mean|\n",
      "+--------------------+----------+--------+---------+----------+--------------------+\n",
      "|TCGA-A2-A0EU-10A-...|        22|16972573| 51244552|        NA|  -0.459539615359244|\n",
      "|TCGA-A2-A0EU-10A-...|        23| 2699504|154930285|        NA|   0.194146928345973|\n",
      "|TCGA-A2-A0EU-01A-...|        22|16972573| 51244552|        NA|  -0.459539615359244|\n",
      "|TCGA-A2-A0EU-01A-...|        23| 2699504|154930285|        NA|   0.194146928345973|\n",
      "|TCGA-A7-A0D9-10A-...|        22|16051207| 51244552|        NA|  -0.226265745441125|\n",
      "|TCGA-A7-A0D9-10A-...|        23| 2699504|154930285|        NA|  -0.186598214609633|\n",
      "|TCGA-A7-A0D9-01A-...|        22|16051207| 51244552|        NA|  -0.226265745441125|\n",
      "|TCGA-A7-A0D9-01A-...|        23| 2699504|154930285|        NA|  -0.186598214609633|\n",
      "|TCGA-AO-A0JF-10A-...|        22|16051206| 51244552|        NA| 0.00439815550577645|\n",
      "|TCGA-AO-A0JF-10A-...|        23| 2699503|116067549|        NA|-0.00841581722379614|\n",
      "|TCGA-AO-A0JF-10A-...|        24| 2649450| 28784074|        NA|  0.0645300884703242|\n",
      "|TCGA-AO-A0JF-01A-...|        22|16051206| 51244552|        NA| 0.00439815550577645|\n",
      "|TCGA-AO-A0JF-01A-...|        23| 2699503|116067549|        NA|-0.00841581722379614|\n",
      "|TCGA-AO-A0JF-01A-...|        24| 2649450| 28784074|        NA|  0.0645300884703242|\n",
      "|TCGA-AO-A0JJ-10A-...|        22|16051206| 51244552|        NA|  0.0515996146611941|\n",
      "|TCGA-AO-A0JJ-10A-...|        23| 2699503| 79266838|        NA|  0.0427673990741247|\n",
      "|TCGA-AO-A0JJ-10A-...|        23|79266839|116067549|        NA|  -0.185449952559593|\n",
      "|TCGA-AO-A0JJ-01A-...|        22|16051206| 51244552|        NA|  0.0515996146611941|\n",
      "|TCGA-AO-A0JJ-01A-...|        23| 2699503| 79266838|        NA|  0.0427673990741247|\n",
      "|TCGA-AO-A0JJ-01A-...|        23|79266839|116067549|        NA|  -0.185449952559593|\n",
      "+--------------------+----------+--------+---------+----------+--------------------+\n",
      "only showing top 20 rows\n",
      "\n"
     ]
    }
   ],
   "source": [
    "df.filter(\"Chromosome > 21\").show() # pokaz dane spelniajace warunek (przy uzyciu filter)"
   ]
  },
  {
   "cell_type": "code",
   "execution_count": 54,
   "metadata": {
    "tags": []
   },
   "outputs": [
    {
     "name": "stdout",
     "output_type": "stream",
     "text": [
      "+--------------------+----------+--------+---------+----------+--------------------+\n",
      "|              Sample|Chromosome|   Start|      End|Num_Probes|        Segment_Mean|\n",
      "+--------------------+----------+--------+---------+----------+--------------------+\n",
      "|TCGA-A2-A0EU-10A-...|        22|16972573| 51244552|        NA|  -0.459539615359244|\n",
      "|TCGA-A2-A0EU-10A-...|        23| 2699504|154930285|        NA|   0.194146928345973|\n",
      "|TCGA-A2-A0EU-01A-...|        22|16972573| 51244552|        NA|  -0.459539615359244|\n",
      "|TCGA-A2-A0EU-01A-...|        23| 2699504|154930285|        NA|   0.194146928345973|\n",
      "|TCGA-A7-A0D9-10A-...|        22|16051207| 51244552|        NA|  -0.226265745441125|\n",
      "|TCGA-A7-A0D9-10A-...|        23| 2699504|154930285|        NA|  -0.186598214609633|\n",
      "|TCGA-A7-A0D9-01A-...|        22|16051207| 51244552|        NA|  -0.226265745441125|\n",
      "|TCGA-A7-A0D9-01A-...|        23| 2699504|154930285|        NA|  -0.186598214609633|\n",
      "|TCGA-AO-A0JF-10A-...|        22|16051206| 51244552|        NA| 0.00439815550577645|\n",
      "|TCGA-AO-A0JF-10A-...|        23| 2699503|116067549|        NA|-0.00841581722379614|\n",
      "|TCGA-AO-A0JF-10A-...|        24| 2649450| 28784074|        NA|  0.0645300884703242|\n",
      "|TCGA-AO-A0JF-01A-...|        22|16051206| 51244552|        NA| 0.00439815550577645|\n",
      "|TCGA-AO-A0JF-01A-...|        23| 2699503|116067549|        NA|-0.00841581722379614|\n",
      "|TCGA-AO-A0JF-01A-...|        24| 2649450| 28784074|        NA|  0.0645300884703242|\n",
      "|TCGA-AO-A0JJ-10A-...|        22|16051206| 51244552|        NA|  0.0515996146611941|\n",
      "|TCGA-AO-A0JJ-10A-...|        23| 2699503| 79266838|        NA|  0.0427673990741247|\n",
      "|TCGA-AO-A0JJ-10A-...|        23|79266839|116067549|        NA|  -0.185449952559593|\n",
      "|TCGA-AO-A0JJ-01A-...|        22|16051206| 51244552|        NA|  0.0515996146611941|\n",
      "|TCGA-AO-A0JJ-01A-...|        23| 2699503| 79266838|        NA|  0.0427673990741247|\n",
      "|TCGA-AO-A0JJ-01A-...|        23|79266839|116067549|        NA|  -0.185449952559593|\n",
      "+--------------------+----------+--------+---------+----------+--------------------+\n",
      "only showing top 20 rows\n",
      "\n"
     ]
    }
   ],
   "source": [
    "df.where(\"Chromosome > 21\").show() # pokaz dane spelniajace warunek (przy uzyciu when)"
   ]
  },
  {
   "cell_type": "code",
   "execution_count": 55,
   "metadata": {
    "tags": []
   },
   "outputs": [
    {
     "name": "stdout",
     "output_type": "stream",
     "text": [
      "== Physical Plan ==\n",
      "*(1) Filter (isnotnull(Chromosome#56) AND (Chromosome#56 > 21))\n",
      "+- FileScan csv [Sample#55,Chromosome#56,Start#57,End#58,Num_Probes#59,Segment_Mean#60] Batched: false, DataFilters: [isnotnull(Chromosome#56), (Chromosome#56 > 21)], Format: CSV, Location: InMemoryFileIndex(1 paths)[gs://ds-2024l-7076-notebook-data/data/brca.txt], PartitionFilters: [], PushedFilters: [IsNotNull(Chromosome), GreaterThan(Chromosome,21)], ReadSchema: struct<Sample:string,Chromosome:int,Start:int,End:int,Num_Probes:string,Segment_Mean:double>\n",
      "\n",
      "\n"
     ]
    }
   ],
   "source": [
    "df.filter(\"Chromosome > 21\").explain()  # pokaz plan wykonania"
   ]
  },
  {
   "cell_type": "code",
   "execution_count": 56,
   "metadata": {
    "tags": []
   },
   "outputs": [
    {
     "name": "stdout",
     "output_type": "stream",
     "text": [
      "+--------------------+----------+---------+---------+----------+-------------------+\n",
      "|              Sample|Chromosome|    Start|      End|Num_Probes|       Segment_Mean|\n",
      "+--------------------+----------+---------+---------+----------+-------------------+\n",
      "|TCGA-A2-A0EU-10A-...|        23|  2699504|154930285|        NA|  0.194146928345973|\n",
      "|TCGA-A2-A0EU-01A-...|        23|  2699504|154930285|        NA|  0.194146928345973|\n",
      "|TCGA-AO-A0JF-10A-...|        22| 16051206| 51244552|        NA|0.00439815550577645|\n",
      "|TCGA-AO-A0JF-10A-...|        24|  2649450| 28784074|        NA| 0.0645300884703242|\n",
      "|TCGA-AO-A0JF-01A-...|        22| 16051206| 51244552|        NA|0.00439815550577645|\n",
      "|TCGA-AO-A0JF-01A-...|        24|  2649450| 28784074|        NA| 0.0645300884703242|\n",
      "|TCGA-AO-A0JJ-10A-...|        22| 16051206| 51244552|        NA| 0.0515996146611941|\n",
      "|TCGA-AO-A0JJ-10A-...|        23|  2699503| 79266838|        NA| 0.0427673990741247|\n",
      "|TCGA-AO-A0JJ-01A-...|        22| 16051206| 51244552|        NA| 0.0515996146611941|\n",
      "|TCGA-AO-A0JJ-01A-...|        23|  2699503| 79266838|        NA| 0.0427673990741247|\n",
      "|TCGA-AO-A0JL-10A-...|        22| 47154100| 51061870|        NA|  0.237734279468154|\n",
      "|TCGA-AO-A0JL-01A-...|        22| 47154100| 51061870|        NA|  0.237734279468154|\n",
      "|TCGA-AR-A0TU-10A-...|        23| 23369378| 23483212|        NA|  0.262755477924769|\n",
      "|TCGA-AR-A0TU-10A-...|        23| 57040106| 65574759|        NA|  0.207610580706052|\n",
      "|TCGA-AR-A0TU-10A-...|        23| 65574760| 66592523|        NA|  0.658779804387554|\n",
      "|TCGA-AR-A0TU-10A-...|        23| 66592524| 67068915|        NA|  0.232688242421582|\n",
      "|TCGA-AR-A0TU-10A-...|        23| 67068916| 72780110|        NA|  0.678579461661141|\n",
      "|TCGA-AR-A0TU-10A-...|        23| 72780111| 72941652|        NA|  0.238319402771317|\n",
      "|TCGA-AR-A0TU-10A-...|        23| 72941653|103386356|        NA|  0.664500982201967|\n",
      "|TCGA-AR-A0TU-10A-...|        23|103386357|116067549|        NA|   1.00505699832785|\n",
      "+--------------------+----------+---------+---------+----------+-------------------+\n",
      "only showing top 20 rows\n",
      "\n"
     ]
    }
   ],
   "source": [
    "df.filter(\"Chromosome > 21 and Segment_Mean > 0\").show() # pokaz dane spelniajace warunki"
   ]
  },
  {
   "cell_type": "markdown",
   "metadata": {},
   "source": [
    "### Grupowanie i funkcje agregujące"
   ]
  },
  {
   "cell_type": "code",
   "execution_count": 57,
   "metadata": {
    "tags": []
   },
   "outputs": [],
   "source": [
    "from pyspark.sql.functions import *"
   ]
  },
  {
   "cell_type": "code",
   "execution_count": 58,
   "metadata": {
    "tags": []
   },
   "outputs": [
    {
     "name": "stderr",
     "output_type": "stream",
     "text": [
      "[Stage 28:>                                                         (0 + 1) / 1]\r"
     ]
    },
    {
     "name": "stdout",
     "output_type": "stream",
     "text": [
      "+----------+-----+\n",
      "|Chromosome|count|\n",
      "+----------+-----+\n",
      "|        12|  202|\n",
      "|         1|  288|\n",
      "|         6|  360|\n",
      "|         3|  192|\n",
      "|         4|  254|\n",
      "|         8|  556|\n",
      "|        11|  318|\n",
      "|        19|  136|\n",
      "|        23|  104|\n",
      "|        21|   96|\n",
      "|        14|  128|\n",
      "|        16|  222|\n",
      "|        20|  388|\n",
      "|         5|  154|\n",
      "|        15|  168|\n",
      "|        24|    8|\n",
      "|         2|  286|\n",
      "|        18|  238|\n",
      "|        13|  120|\n",
      "|        17|  440|\n",
      "+----------+-----+\n",
      "only showing top 20 rows\n",
      "\n"
     ]
    },
    {
     "name": "stderr",
     "output_type": "stream",
     "text": [
      "                                                                                \r"
     ]
    }
   ],
   "source": [
    "df.groupBy(\"Chromosome\").count().show()   # dokonaj grupowania po chromosomie i policz rekordy w grupie"
   ]
  },
  {
   "cell_type": "code",
   "execution_count": 59,
   "metadata": {
    "tags": []
   },
   "outputs": [
    {
     "name": "stderr",
     "output_type": "stream",
     "text": [
      "[Stage 31:>                                                         (0 + 1) / 1]\r"
     ]
    },
    {
     "name": "stdout",
     "output_type": "stream",
     "text": [
      "+----------+--------------------+\n",
      "|Chromosome|   avg(Segment_Mean)|\n",
      "+----------+--------------------+\n",
      "|        12|  0.2077776566255012|\n",
      "|         1|  0.2749020151479202|\n",
      "|         6| 0.09061564099997978|\n",
      "|         3|-0.02618245312138...|\n",
      "|         4|-0.01256776781881...|\n",
      "|         8|  0.6859064011278554|\n",
      "|        11| 0.03372826519655162|\n",
      "|        19| 0.08623909396694052|\n",
      "|        23|-0.07294761544611646|\n",
      "|        21|-0.06047204925394...|\n",
      "|        14| 0.28058573260745223|\n",
      "|        16|  0.3809825220709315|\n",
      "|        20|  0.7508020639591368|\n",
      "|         5|-0.04673099374977487|\n",
      "|        15|  0.6376181402358202|\n",
      "|        24| 0.07405671005723104|\n",
      "|         2|-0.11265343721466738|\n",
      "|        18| 0.09047098750564904|\n",
      "|        13|-0.25463230407325826|\n",
      "|        17| 0.24462914215524065|\n",
      "+----------+--------------------+\n",
      "only showing top 20 rows\n",
      "\n"
     ]
    },
    {
     "name": "stderr",
     "output_type": "stream",
     "text": [
      "                                                                                \r"
     ]
    }
   ],
   "source": [
    "df.groupBy(\"Chromosome\").avg(\"Segment_Mean\").show() # dokonaj grupowania po chromosomie i policz srednia wartosc segment_mean w grupie"
   ]
  },
  {
   "cell_type": "code",
   "execution_count": 60,
   "metadata": {
    "tags": []
   },
   "outputs": [
    {
     "name": "stderr",
     "output_type": "stream",
     "text": [
      "[Stage 34:>                                                         (0 + 1) / 1]\r"
     ]
    },
    {
     "name": "stdout",
     "output_type": "stream",
     "text": [
      "+--------------------+----------+-----+\n",
      "|              Sample|Chromosome|count|\n",
      "+--------------------+----------+-----+\n",
      "|TCGA-A2-A0EU-01A-...|        19|    1|\n",
      "|TCGA-A2-A0EU-01A-...|        17|    1|\n",
      "|TCGA-A2-A0EU-01A-...|        18|    1|\n",
      "|TCGA-A2-A0EU-01A-...|         3|    3|\n",
      "|TCGA-A2-A0EU-01A-...|        14|    1|\n",
      "|TCGA-A2-A0EU-01A-...|        13|    1|\n",
      "|TCGA-A2-A0EU-01A-...|        12|    1|\n",
      "|TCGA-A2-A0EU-01A-...|         4|    1|\n",
      "|TCGA-A2-A0EU-01A-...|        23|    1|\n",
      "|TCGA-A2-A0EU-01A-...|        22|    1|\n",
      "|TCGA-A2-A0EU-01A-...|        21|    1|\n",
      "|TCGA-A2-A0EU-01A-...|        20|    1|\n",
      "|TCGA-A2-A0EU-01A-...|         7|    1|\n",
      "|TCGA-A2-A0EU-01A-...|        16|    6|\n",
      "|TCGA-A2-A0EU-01A-...|         6|    1|\n",
      "|TCGA-A2-A0EU-01A-...|        11|    1|\n",
      "|TCGA-A2-A0EU-01A-...|        15|    1|\n",
      "|TCGA-A2-A0EU-01A-...|         8|   10|\n",
      "|TCGA-A2-A0EU-01A-...|         5|    1|\n",
      "|TCGA-A2-A0EU-01A-...|         2|    1|\n",
      "+--------------------+----------+-----+\n",
      "only showing top 20 rows\n",
      "\n"
     ]
    },
    {
     "name": "stderr",
     "output_type": "stream",
     "text": [
      "                                                                                \r"
     ]
    }
   ],
   "source": [
    "# pogrupuj dane wzgledem probki i chromosomu, policz rekordy w grupie\n",
    "df.groupBy(\"Sample\",\"Chromosome\").count().orderBy(asc(\"Sample\")).show()"
   ]
  },
  {
   "cell_type": "markdown",
   "metadata": {},
   "source": [
    "### Kolumny wyliczane"
   ]
  },
  {
   "cell_type": "code",
   "execution_count": 61,
   "metadata": {
    "tags": []
   },
   "outputs": [
    {
     "name": "stdout",
     "output_type": "stream",
     "text": [
      "+--------------------+----------+---------+---------+----------+-------------------+---------+\n",
      "|              Sample|Chromosome|    Start|      End|Num_Probes|       Segment_Mean|   Length|\n",
      "+--------------------+----------+---------+---------+----------+-------------------+---------+\n",
      "|TCGA-A2-A0EU-10A-...|         1|    10209|  2583075|        NA| -0.210121164888764|  2572866|\n",
      "|TCGA-A2-A0EU-10A-...|         1|  2583076|249240606|        NA| -0.101789555120838|246657530|\n",
      "|TCGA-A2-A0EU-10A-...|         2|    10002|243189359|        NA| -0.337963741969504|243179357|\n",
      "|TCGA-A2-A0EU-10A-...|         3|    60175|162511435|        NA|-0.0850647472883194|162451260|\n",
      "|TCGA-A2-A0EU-10A-...|         3|162511436|162626067|        NA|   0.42309157125509|   114631|\n",
      "|TCGA-A2-A0EU-10A-...|         3|162626068|197962416|        NA|-0.0962225847981023| 35336348|\n",
      "|TCGA-A2-A0EU-10A-...|         4|    69223|191014397|        NA|-0.0713350286479217|190945174|\n",
      "|TCGA-A2-A0EU-10A-...|         5|    11770|180905246|        NA|  0.176064461471459|180893476|\n",
      "|TCGA-A2-A0EU-10A-...|         6|    63815|171050932|        NA|-0.0895478602860139|170987117|\n",
      "|TCGA-A2-A0EU-10A-...|         7|    10128|159128640|        NA|-0.0402976850808555|159118512|\n",
      "|TCGA-A2-A0EU-10A-...|         8|    23380|  1238776|        NA|  -1.29512163093905|  1215396|\n",
      "|TCGA-A2-A0EU-10A-...|         8|  1238777|  1246507|        NA|  0.484060599726464|     7730|\n",
      "|TCGA-A2-A0EU-10A-...|         8|  1246508|  1316313|        NA|  -1.34134440497319|    69805|\n",
      "|TCGA-A2-A0EU-10A-...|         8|  1316314|  3129168|        NA|  0.633479182382731|  1812854|\n",
      "|TCGA-A2-A0EU-10A-...|         8|  3129169| 36339136|        NA|  -1.25800956803346| 33209967|\n",
      "|TCGA-A2-A0EU-10A-...|         8| 36339137| 39701358|        NA|  0.614107286644963|  3362221|\n",
      "|TCGA-A2-A0EU-10A-...|         8| 39701359| 40086720|        NA|  0.275345530494848|   385361|\n",
      "|TCGA-A2-A0EU-10A-...|         8| 40086721| 48901482|        NA|  0.656347604902809|  8814761|\n",
      "|TCGA-A2-A0EU-10A-...|         8| 48901483| 48911575|        NA| -0.693717002645095|    10092|\n",
      "|TCGA-A2-A0EU-10A-...|         8| 48911576|146303846|        NA|   0.76122152958433| 97392270|\n",
      "+--------------------+----------+---------+---------+----------+-------------------+---------+\n",
      "only showing top 20 rows\n",
      "\n"
     ]
    }
   ],
   "source": [
    "df.withColumn (\"Length\", col(\"End\") - col(\"Start\")).show() # dodaj kolumne dlugosc jako end - start"
   ]
  },
  {
   "cell_type": "code",
   "execution_count": 62,
   "metadata": {
    "tags": []
   },
   "outputs": [
    {
     "name": "stdout",
     "output_type": "stream",
     "text": [
      "+--------------------+----------+---------+---------+----------+-------------------+--------+\n",
      "|              Sample|Chromosome|    Start|      End|Num_Probes|       Segment_Mean|Material|\n",
      "+--------------------+----------+---------+---------+----------+-------------------+--------+\n",
      "|TCGA-A2-A0EU-10A-...|         1|    10209|  2583075|        NA| -0.210121164888764|     DNA|\n",
      "|TCGA-A2-A0EU-10A-...|         1|  2583076|249240606|        NA| -0.101789555120838|     DNA|\n",
      "|TCGA-A2-A0EU-10A-...|         2|    10002|243189359|        NA| -0.337963741969504|     DNA|\n",
      "|TCGA-A2-A0EU-10A-...|         3|    60175|162511435|        NA|-0.0850647472883194|     DNA|\n",
      "|TCGA-A2-A0EU-10A-...|         3|162511436|162626067|        NA|   0.42309157125509|     DNA|\n",
      "|TCGA-A2-A0EU-10A-...|         3|162626068|197962416|        NA|-0.0962225847981023|     DNA|\n",
      "|TCGA-A2-A0EU-10A-...|         4|    69223|191014397|        NA|-0.0713350286479217|     DNA|\n",
      "|TCGA-A2-A0EU-10A-...|         5|    11770|180905246|        NA|  0.176064461471459|     DNA|\n",
      "|TCGA-A2-A0EU-10A-...|         6|    63815|171050932|        NA|-0.0895478602860139|     DNA|\n",
      "|TCGA-A2-A0EU-10A-...|         7|    10128|159128640|        NA|-0.0402976850808555|     DNA|\n",
      "|TCGA-A2-A0EU-10A-...|         8|    23380|  1238776|        NA|  -1.29512163093905|     DNA|\n",
      "|TCGA-A2-A0EU-10A-...|         8|  1238777|  1246507|        NA|  0.484060599726464|     DNA|\n",
      "|TCGA-A2-A0EU-10A-...|         8|  1246508|  1316313|        NA|  -1.34134440497319|     DNA|\n",
      "|TCGA-A2-A0EU-10A-...|         8|  1316314|  3129168|        NA|  0.633479182382731|     DNA|\n",
      "|TCGA-A2-A0EU-10A-...|         8|  3129169| 36339136|        NA|  -1.25800956803346|     DNA|\n",
      "|TCGA-A2-A0EU-10A-...|         8| 36339137| 39701358|        NA|  0.614107286644963|     DNA|\n",
      "|TCGA-A2-A0EU-10A-...|         8| 39701359| 40086720|        NA|  0.275345530494848|     DNA|\n",
      "|TCGA-A2-A0EU-10A-...|         8| 40086721| 48901482|        NA|  0.656347604902809|     DNA|\n",
      "|TCGA-A2-A0EU-10A-...|         8| 48901483| 48911575|        NA| -0.693717002645095|     DNA|\n",
      "|TCGA-A2-A0EU-10A-...|         8| 48911576|146303846|        NA|   0.76122152958433|     DNA|\n",
      "+--------------------+----------+---------+---------+----------+-------------------+--------+\n",
      "only showing top 20 rows\n",
      "\n"
     ]
    }
   ],
   "source": [
    "df.withColumn (\"Material\", lit(\"DNA\")).show()     # dodaj kolumne o stalej wartosci 'DNA'"
   ]
  },
  {
   "cell_type": "code",
   "execution_count": 63,
   "metadata": {
    "tags": []
   },
   "outputs": [
    {
     "name": "stdout",
     "output_type": "stream",
     "text": [
      "+--------------------+----------+---------+---------+----------+-------------------+-----------+\n",
      "|              Sample|Chromosome|    Start|      End|Num_Probes|       Segment_Mean|Chromosome2|\n",
      "+--------------------+----------+---------+---------+----------+-------------------+-----------+\n",
      "|TCGA-A2-A0EU-10A-...|         1|    10209|  2583075|        NA| -0.210121164888764|       chr1|\n",
      "|TCGA-A2-A0EU-10A-...|         1|  2583076|249240606|        NA| -0.101789555120838|       chr1|\n",
      "|TCGA-A2-A0EU-10A-...|         2|    10002|243189359|        NA| -0.337963741969504|       chr2|\n",
      "|TCGA-A2-A0EU-10A-...|         3|    60175|162511435|        NA|-0.0850647472883194|       chr3|\n",
      "|TCGA-A2-A0EU-10A-...|         3|162511436|162626067|        NA|   0.42309157125509|       chr3|\n",
      "|TCGA-A2-A0EU-10A-...|         3|162626068|197962416|        NA|-0.0962225847981023|       chr3|\n",
      "|TCGA-A2-A0EU-10A-...|         4|    69223|191014397|        NA|-0.0713350286479217|       chr4|\n",
      "|TCGA-A2-A0EU-10A-...|         5|    11770|180905246|        NA|  0.176064461471459|       chr5|\n",
      "|TCGA-A2-A0EU-10A-...|         6|    63815|171050932|        NA|-0.0895478602860139|       chr6|\n",
      "|TCGA-A2-A0EU-10A-...|         7|    10128|159128640|        NA|-0.0402976850808555|       chr7|\n",
      "|TCGA-A2-A0EU-10A-...|         8|    23380|  1238776|        NA|  -1.29512163093905|       chr8|\n",
      "|TCGA-A2-A0EU-10A-...|         8|  1238777|  1246507|        NA|  0.484060599726464|       chr8|\n",
      "|TCGA-A2-A0EU-10A-...|         8|  1246508|  1316313|        NA|  -1.34134440497319|       chr8|\n",
      "|TCGA-A2-A0EU-10A-...|         8|  1316314|  3129168|        NA|  0.633479182382731|       chr8|\n",
      "|TCGA-A2-A0EU-10A-...|         8|  3129169| 36339136|        NA|  -1.25800956803346|       chr8|\n",
      "|TCGA-A2-A0EU-10A-...|         8| 36339137| 39701358|        NA|  0.614107286644963|       chr8|\n",
      "|TCGA-A2-A0EU-10A-...|         8| 39701359| 40086720|        NA|  0.275345530494848|       chr8|\n",
      "|TCGA-A2-A0EU-10A-...|         8| 40086721| 48901482|        NA|  0.656347604902809|       chr8|\n",
      "|TCGA-A2-A0EU-10A-...|         8| 48901483| 48911575|        NA| -0.693717002645095|       chr8|\n",
      "|TCGA-A2-A0EU-10A-...|         8| 48911576|146303846|        NA|   0.76122152958433|       chr8|\n",
      "+--------------------+----------+---------+---------+----------+-------------------+-----------+\n",
      "only showing top 20 rows\n",
      "\n"
     ]
    }
   ],
   "source": [
    "df.withColumn (\"Chromosome2\", concat(lit(\"chr\"), col(\"Chromosome\"))).show() # dodaj kolumne z konkatencja"
   ]
  },
  {
   "cell_type": "code",
   "execution_count": 64,
   "metadata": {
    "tags": []
   },
   "outputs": [
    {
     "name": "stdout",
     "output_type": "stream",
     "text": [
      "+--------------------+---------+---------+----------+-------------------+\n",
      "|              Sample|    Start|      End|Num_Probes|       Segment_Mean|\n",
      "+--------------------+---------+---------+----------+-------------------+\n",
      "|TCGA-A2-A0EU-10A-...|    10209|  2583075|        NA| -0.210121164888764|\n",
      "|TCGA-A2-A0EU-10A-...|  2583076|249240606|        NA| -0.101789555120838|\n",
      "|TCGA-A2-A0EU-10A-...|    10002|243189359|        NA| -0.337963741969504|\n",
      "|TCGA-A2-A0EU-10A-...|    60175|162511435|        NA|-0.0850647472883194|\n",
      "|TCGA-A2-A0EU-10A-...|162511436|162626067|        NA|   0.42309157125509|\n",
      "|TCGA-A2-A0EU-10A-...|162626068|197962416|        NA|-0.0962225847981023|\n",
      "|TCGA-A2-A0EU-10A-...|    69223|191014397|        NA|-0.0713350286479217|\n",
      "|TCGA-A2-A0EU-10A-...|    11770|180905246|        NA|  0.176064461471459|\n",
      "|TCGA-A2-A0EU-10A-...|    63815|171050932|        NA|-0.0895478602860139|\n",
      "|TCGA-A2-A0EU-10A-...|    10128|159128640|        NA|-0.0402976850808555|\n",
      "|TCGA-A2-A0EU-10A-...|    23380|  1238776|        NA|  -1.29512163093905|\n",
      "|TCGA-A2-A0EU-10A-...|  1238777|  1246507|        NA|  0.484060599726464|\n",
      "|TCGA-A2-A0EU-10A-...|  1246508|  1316313|        NA|  -1.34134440497319|\n",
      "|TCGA-A2-A0EU-10A-...|  1316314|  3129168|        NA|  0.633479182382731|\n",
      "|TCGA-A2-A0EU-10A-...|  3129169| 36339136|        NA|  -1.25800956803346|\n",
      "|TCGA-A2-A0EU-10A-...| 36339137| 39701358|        NA|  0.614107286644963|\n",
      "|TCGA-A2-A0EU-10A-...| 39701359| 40086720|        NA|  0.275345530494848|\n",
      "|TCGA-A2-A0EU-10A-...| 40086721| 48901482|        NA|  0.656347604902809|\n",
      "|TCGA-A2-A0EU-10A-...| 48901483| 48911575|        NA| -0.693717002645095|\n",
      "|TCGA-A2-A0EU-10A-...| 48911576|146303846|        NA|   0.76122152958433|\n",
      "+--------------------+---------+---------+----------+-------------------+\n",
      "only showing top 20 rows\n",
      "\n"
     ]
    }
   ],
   "source": [
    "df.drop(\"Chromosome\").show()  # usun kolumne Chromosome. \n",
    "# Czy DF została pozbawiona kolumny na trwale?"
   ]
  },
  {
   "cell_type": "markdown",
   "metadata": {},
   "source": [
    "### Zapis wyników"
   ]
  },
  {
   "cell_type": "code",
   "execution_count": null,
   "metadata": {},
   "outputs": [],
   "source": [
    "df2 = df.withColumn (\"Chromosome2\", concat(lit(\"chr\"), col(\"Chromosome\")))  # dodaj kolumne z konkatenacja i zapisz do nowego DF"
   ]
  },
  {
   "cell_type": "code",
   "execution_count": null,
   "metadata": {},
   "outputs": [],
   "source": [
    "output_path = f'gs://ds-{semester}-{user_id}-notebook-data/data/brca2.txt'\n",
    "df2.write.format(\"csv\").mode(\"overwrite\").save(output_path)"
   ]
  },
  {
   "cell_type": "code",
   "execution_count": null,
   "metadata": {},
   "outputs": [],
   "source": [
    "! gsutil ls gs://ds-$SEMESTER-$USER_ID-notebook-data/data/"
   ]
  },
  {
   "cell_type": "code",
   "execution_count": null,
   "metadata": {},
   "outputs": [],
   "source": [
    "!gsutil cat gs://ds-$SEMESTER-$USER_ID-notebook-data/data/brca.txt | head"
   ]
  },
  {
   "cell_type": "markdown",
   "metadata": {},
   "source": [
    "#### Wazne!\n",
    "Na koniec pracy przy tym notatniku (po wykonaniu poniższego polecenia) koniecznie zatrzymaj sesję Sparkową:"
   ]
  },
  {
   "cell_type": "code",
   "execution_count": 90,
   "metadata": {
    "tags": []
   },
   "outputs": [],
   "source": [
    "spark.stop()"
   ]
  },
  {
   "cell_type": "markdown",
   "metadata": {},
   "source": [
    "## <span style='background:yellow'> ZADANIE 3</span>\n",
    "\n",
    "a) Ile jest unikalnych danych próbek w tym zbiorze danych?\n",
    "\n",
    "b) Pokaż nazwę próbki, numer chromosomu, początek i koniec segmentu dla segmentów występujących na chromosomie 21,22,23 i mających startową pozycję większą niż 10000000. \n",
    "\n",
    "c) Ile występuje wierszy dla każdej z próbki? Pokaż wynik z pełną nazwą próbki. Zapisz wynik do pliku na GCS"
   ]
  },
  {
   "cell_type": "code",
   "execution_count": 71,
   "metadata": {
    "tags": []
   },
   "outputs": [
    {
     "data": {
      "text/plain": [
       "38"
      ]
     },
     "execution_count": 71,
     "metadata": {},
     "output_type": "execute_result"
    }
   ],
   "source": [
    "df.select(\"Sample\").distinct().count()"
   ]
  },
  {
   "cell_type": "code",
   "execution_count": 73,
   "metadata": {
    "tags": []
   },
   "outputs": [
    {
     "data": {
      "text/plain": [
       "[Row(Sample='TCGA-A2-A0EU-10A-01D-A060-02', Chromosome=1, Start=10209, End=2583075, Num_Probes='NA', Segment_Mean=-0.210121164888764),\n",
       " Row(Sample='TCGA-A2-A0EU-10A-01D-A060-02', Chromosome=1, Start=2583076, End=249240606, Num_Probes='NA', Segment_Mean=-0.101789555120838),\n",
       " Row(Sample='TCGA-A2-A0EU-10A-01D-A060-02', Chromosome=2, Start=10002, End=243189359, Num_Probes='NA', Segment_Mean=-0.337963741969504),\n",
       " Row(Sample='TCGA-A2-A0EU-10A-01D-A060-02', Chromosome=3, Start=60175, End=162511435, Num_Probes='NA', Segment_Mean=-0.0850647472883194),\n",
       " Row(Sample='TCGA-A2-A0EU-10A-01D-A060-02', Chromosome=3, Start=162511436, End=162626067, Num_Probes='NA', Segment_Mean=0.42309157125509),\n",
       " Row(Sample='TCGA-A2-A0EU-10A-01D-A060-02', Chromosome=3, Start=162626068, End=197962416, Num_Probes='NA', Segment_Mean=-0.0962225847981023),\n",
       " Row(Sample='TCGA-A2-A0EU-10A-01D-A060-02', Chromosome=4, Start=69223, End=191014397, Num_Probes='NA', Segment_Mean=-0.0713350286479217),\n",
       " Row(Sample='TCGA-A2-A0EU-10A-01D-A060-02', Chromosome=5, Start=11770, End=180905246, Num_Probes='NA', Segment_Mean=0.176064461471459),\n",
       " Row(Sample='TCGA-A2-A0EU-10A-01D-A060-02', Chromosome=6, Start=63815, End=171050932, Num_Probes='NA', Segment_Mean=-0.0895478602860139),\n",
       " Row(Sample='TCGA-A2-A0EU-10A-01D-A060-02', Chromosome=7, Start=10128, End=159128640, Num_Probes='NA', Segment_Mean=-0.0402976850808555)]"
      ]
     },
     "execution_count": 73,
     "metadata": {},
     "output_type": "execute_result"
    }
   ],
   "source": [
    "df.head(10)"
   ]
  },
  {
   "cell_type": "code",
   "execution_count": 88,
   "metadata": {
    "tags": []
   },
   "outputs": [
    {
     "name": "stdout",
     "output_type": "stream",
     "text": [
      "+--------------------+----------+---------+---------+\n",
      "|              Sample|Chromosome|    Start|      End|\n",
      "+--------------------+----------+---------+---------+\n",
      "|TCGA-A2-A0EU-10A-...|        22| 16972573| 51244552|\n",
      "|TCGA-A2-A0EU-01A-...|        22| 16972573| 51244552|\n",
      "|TCGA-A7-A0D9-10A-...|        22| 16051207| 51244552|\n",
      "|TCGA-A7-A0D9-01A-...|        22| 16051207| 51244552|\n",
      "|TCGA-AO-A0JF-10A-...|        22| 16051206| 51244552|\n",
      "|TCGA-AO-A0JF-01A-...|        22| 16051206| 51244552|\n",
      "|TCGA-AO-A0JJ-10A-...|        22| 16051206| 51244552|\n",
      "|TCGA-AO-A0JJ-10A-...|        23| 79266839|116067549|\n",
      "|TCGA-AO-A0JJ-01A-...|        22| 16051206| 51244552|\n",
      "|TCGA-AO-A0JJ-01A-...|        23| 79266839|116067549|\n",
      "|TCGA-AO-A0JL-10A-...|        22| 16051206| 47154099|\n",
      "|TCGA-AO-A0JL-10A-...|        22| 47154100| 51061870|\n",
      "|TCGA-AO-A0JL-10A-...|        22| 51061871| 51244552|\n",
      "|TCGA-AO-A0JL-10A-...|        23| 30938120| 31584900|\n",
      "|TCGA-AO-A0JL-10A-...|        23| 31584901| 71333082|\n",
      "|TCGA-AO-A0JL-10A-...|        23| 71333083| 72946708|\n",
      "|TCGA-AO-A0JL-10A-...|        23| 72946709| 99856374|\n",
      "|TCGA-AO-A0JL-10A-...|        23| 99856375|101567124|\n",
      "|TCGA-AO-A0JL-10A-...|        23|101567125|116067549|\n",
      "|TCGA-AO-A0JL-01A-...|        22| 16051206| 47154099|\n",
      "+--------------------+----------+---------+---------+\n",
      "only showing top 20 rows\n",
      "\n"
     ]
    }
   ],
   "source": [
    "df.filter(\"Chromosome in (21,22,23) and Start > 10000000\").select(\"Sample\",\"Chromosome\",\"Start\",\"End\").show()\n"
   ]
  },
  {
   "cell_type": "code",
   "execution_count": 79,
   "metadata": {
    "tags": []
   },
   "outputs": [
    {
     "name": "stdout",
     "output_type": "stream",
     "text": [
      "+----------------------------+-----+\n",
      "|Sample                      |count|\n",
      "+----------------------------+-----+\n",
      "|TCGA-A2-A0EU-01A-22D-A060-02|42   |\n",
      "|TCGA-A2-A0EU-10A-01D-A060-02|42   |\n",
      "|TCGA-A7-A0D9-01A-31D-A060-02|182  |\n",
      "|TCGA-A7-A0D9-10A-01D-A060-02|182  |\n",
      "|TCGA-AO-A0JF-01A-11D-A060-02|28   |\n",
      "|TCGA-AO-A0JF-10A-01D-A060-02|28   |\n",
      "|TCGA-AO-A0JJ-01A-11D-A060-02|33   |\n",
      "|TCGA-AO-A0JJ-10A-01D-A060-02|33   |\n",
      "|TCGA-AO-A0JL-01A-11D-A060-02|316  |\n",
      "|TCGA-AO-A0JL-10A-01D-A060-02|316  |\n",
      "|TCGA-AR-A0TU-01A-31D-A106-02|263  |\n",
      "|TCGA-AR-A0TU-10A-01D-A106-02|263  |\n",
      "|TCGA-B6-A0RE-01A-11D-A060-02|186  |\n",
      "|TCGA-B6-A0RE-10A-01D-A060-02|186  |\n",
      "|TCGA-B6-A0RG-01A-11D-A060-02|104  |\n",
      "|TCGA-B6-A0RG-10A-01D-A060-02|104  |\n",
      "|TCGA-B6-A0RI-01A-11D-A060-02|54   |\n",
      "|TCGA-B6-A0RI-10A-01D-A060-02|54   |\n",
      "|TCGA-B6-A0X4-01A-11D-A106-02|28   |\n",
      "|TCGA-B6-A0X4-10A-01D-A106-02|28   |\n",
      "+----------------------------+-----+\n",
      "only showing top 20 rows\n",
      "\n"
     ]
    }
   ],
   "source": [
    "result_df  = df.groupBy(\"Sample\").count().orderBy(asc(\"Sample\"))\n",
    "result_df.show(truncate=False) "
   ]
  },
  {
   "cell_type": "code",
   "execution_count": 87,
   "metadata": {
    "tags": []
   },
   "outputs": [
    {
     "name": "stderr",
     "output_type": "stream",
     "text": [
      "                                                                                \r"
     ]
    }
   ],
   "source": [
    "# Dynamiczna ścieżka\n",
    "output_path = f'gs://ds-{semester}-{user_id}-notebook-data/data/result_df.txt'\n",
    "result_df.write.format(\"csv\").mode(\"overwrite\").save(output_path)"
   ]
  },
  {
   "cell_type": "code",
   "execution_count": 89,
   "metadata": {
    "tags": []
   },
   "outputs": [
    {
     "name": "stdout",
     "output_type": "stream",
     "text": [
      "gs://ds-2024l-7076-notebook-data/data/\n",
      "gs://ds-2024l-7076-notebook-data/data/brca.txt\n",
      "gs://ds-2024l-7076-notebook-data/data/result_df.csv/\n",
      "gs://ds-2024l-7076-notebook-data/data/result_df.txt/\n"
     ]
    }
   ],
   "source": [
    "! gsutil ls gs://ds-$SEMESTER-$USER_ID-notebook-data/data/"
   ]
  },
  {
   "cell_type": "code",
   "execution_count": null,
   "metadata": {},
   "outputs": [],
   "source": []
  }
 ],
 "metadata": {
  "kernelspec": {
   "display_name": "Python 3",
   "language": "python",
   "name": "python3"
  },
  "language_info": {
   "codemirror_mode": {
    "name": "ipython",
    "version": 3
   },
   "file_extension": ".py",
   "mimetype": "text/x-python",
   "name": "python",
   "nbconvert_exporter": "python",
   "pygments_lexer": "ipython3",
   "version": "3.11.8"
  },
  "notebook_test": {
   "keytab_path": "/data/work/home/ds-lab-testuser1/ds-lab-testuser1.keytab",
   "user": "ds-lab-testuser1"
  }
 },
 "nbformat": 4,
 "nbformat_minor": 4
}
